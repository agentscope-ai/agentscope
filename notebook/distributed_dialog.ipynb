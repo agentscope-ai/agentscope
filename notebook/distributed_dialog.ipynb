{
 "cells": [
  {
   "cell_type": "markdown",
   "id": "d8bb3d3e-eec5-4a14-bb36-9fdf6b7d00b2",
   "metadata": {},
   "source": [
    "# Distributed dialogue"
   ]
  },
  {
   "cell_type": "markdown",
   "id": "8626bd94-3a0b-4c61-85d6-b157ffc5ac25",
   "metadata": {},
   "source": [
    "This example initializes an assistant agent and a user agent as separate processes and uses RPC to communicate between them. The full codes can be found in in `examples/distributed/distributed_dialog.py`"
   ]
  },
  {
   "cell_type": "markdown",
   "id": "605ebd1c-3222-4dce-b974-6377da37d555",
   "metadata": {},
   "source": [
    "To install AgentScope, please follow the steps in [README.md](https://github.com/alibaba/AgentScope/blob/main/README.md#installation)."
   ]
  },
  {
   "cell_type": "markdown",
   "id": "710f835a-ecc8-481f-a4ab-7f0db33e68f4",
   "metadata": {},
   "source": [
    "In this case, we need to initialize two agents: assistant agent and user agnent."
   ]
  },
  {
   "cell_type": "markdown",
   "id": "7938f3a2-38e5-424c-a589-71b31ea7fde1",
   "metadata": {},
   "source": [
    "The code for assistant is as follows."
   ]
  },
  {
   "cell_type": "markdown",
   "id": "eb93b3c3-aee4-4c59-b6cd-a6b107a23b49",
   "metadata": {},
   "source": [
    "```bash\n",
    "def setup_assistant_server(assistant_host: str, assistant_port: int) -> None:\n",
    "    \"\"\"Set up assistant rpc server\"\"\"\n",
    "    agentscope.init(\n",
    "        model_configs=\"configs/model_configs.json\",\n",
    "    )\n",
    "    assistant_server_launcher = RpcAgentServerLauncher(\n",
    "        name=\"Assitant\",\n",
    "        agent_class=RpcDialogAgent,\n",
    "        host=assistant_host,\n",
    "        port=assistant_port,\n",
    "        sys_prompt=\"You are a helpful assistant.\",\n",
    "        model=\"gpt-3.5-turbo\",\n",
    "        use_memory=True,\n",
    "        local_mode=False,\n",
    "    )\n",
    "    assistant_server_launcher.launch()\n",
    "    assistant_server_launcher.wait_until_terminate()\n",
    "```"
   ]
  },
  {
   "cell_type": "markdown",
   "id": "6dc37a09-4077-4ab9-a6e9-e2afa9b87228",
   "metadata": {},
   "source": [
    "To run two processes on jupyter at the same time, we put `assistant agent` in the background."
   ]
  },
  {
   "cell_type": "code",
   "execution_count": null,
   "id": "2c09ed71-ede2-4f03-923a-67a2668fcd00",
   "metadata": {},
   "outputs": [],
   "source": [
    "%cd ../examples/distributed/"
   ]
  },
  {
   "cell_type": "code",
   "execution_count": 2,
   "id": "c6148137-29f8-48c9-a91c-62e9b48f9e6c",
   "metadata": {},
   "outputs": [],
   "source": [
    "import subprocess\n",
    "\n",
    "# Using Popen to initialize a backstage process\n",
    "\n",
    "proc = subprocess.Popen(\n",
    "    ['python', 'distributed_dialog.py', '--role', 'assistant', '--assistant-host', 'localhost', '--assistant-port', '12010'],\n",
    "    stdout=subprocess.PIPE,\n",
    "    stderr=subprocess.PIPE\n",
    ")\n",
    "\n",
    "# This code will return immediately and the process will run in the background\n"
   ]
  },
  {
   "cell_type": "markdown",
   "id": "d5229b68-8c6d-4063-bfe7-f1d836b0b74d",
   "metadata": {},
   "source": [
    "Then we run the user agent on jupyter."
   ]
  },
  {
   "cell_type": "code",
   "execution_count": null,
   "id": "c1ce5f86-4088-4f1f-a010-377f5b7550f0",
   "metadata": {},
   "outputs": [],
   "source": [
    "%cd ../../notebook/"
   ]
  },
  {
   "cell_type": "markdown",
   "id": "fa7ce528-5447-4168-a83a-ffcce53d2155",
   "metadata": {},
   "source": [
    "Define the model_configs."
   ]
  },
  {
   "cell_type": "code",
   "execution_count": 4,
   "id": "d7deca99-21c7-4746-9288-67b9a2f733b1",
   "metadata": {},
   "outputs": [],
   "source": [
    "model_configs = [\n",
    "    {\n",
    "        \"type\": \"openai\",\n",
    "        \"name\": \"gpt-3.5-turbo\",\n",
    "        \"parameters\": {\n",
    "            \"api_key\": \"xxx\",\n",
    "            \"organization_id\": \"xxx\",\n",
    "            \"temperature\": 0.0\n",
    "        }\n",
    "    },\n",
    "    {\n",
    "        \"type\": \"openai\",\n",
    "        \"name\": \"gpt-4\",\n",
    "        \"parameters\": {\n",
    "            \"api_key\": \"xxx\",\n",
    "            \"organization_id\": \"xxx\",\n",
    "            \"temperature\": 0.0\n",
    "        }\n",
    "    }\n",
    "]"
   ]
  },
  {
   "cell_type": "markdown",
   "id": "62914494-1a6f-409e-96ab-01eaf3dcd12e",
   "metadata": {},
   "source": [
    "Run the following codes to initialize the user agent."
   ]
  },
  {
   "cell_type": "code",
   "execution_count": null,
   "id": "85367a4c-ec23-40e1-967f-fa7a0e932661",
   "metadata": {},
   "outputs": [],
   "source": [
    "import time\n",
    "\n",
    "import agentscope\n",
    "from agentscope.agents import UserAgent\n",
    "from agentscope.agents.rpc_dialog_agent import RpcDialogAgent\n",
    "from agentscope.utils.logging_utils import logger\n",
    "\n",
    "assistant_host = \"localhost\"\n",
    "assistant_port = 12010\n",
    "\n",
    "agentscope.init(\n",
    "    model_configs=model_configs,\n",
    ")\n",
    "assistant_agent = RpcDialogAgent(\n",
    "    name=\"Assistant\",\n",
    "    host=assistant_host,\n",
    "    port=assistant_port,\n",
    "    launch_server=False,\n",
    ")\n",
    "user_agent = UserAgent(\n",
    "    name=\"User\",\n",
    "    require_url=False,\n",
    ")\n",
    "logger.info(\n",
    "    \"Setup successfully, have fun chatting! (enter 'exit' to close the \"\n",
    "    \"agent)\",\n",
    ")\n",
    "msg = user_agent()\n",
    "while not msg.content.endswith(\"exit\"):\n",
    "    msg = assistant_agent(msg)\n",
    "    logger.chat(msg.update_value())\n",
    "    time.sleep(0.5)\n",
    "    msg = user_agent(msg)"
   ]
  },
  {
   "cell_type": "markdown",
   "id": "829a2053-9643-4153-a324-0762177e8c1c",
   "metadata": {},
   "source": [
    "Finally, terminate the assistant agent in the backend. "
   ]
  },
  {
   "cell_type": "code",
   "execution_count": 6,
   "id": "59dc514a-c108-4d9e-95ce-bedf757c8958",
   "metadata": {},
   "outputs": [],
   "source": [
    "proc.terminate()"
   ]
  }
 ],
 "metadata": {
  "kernelspec": {
   "display_name": "Python 3 (ipykernel)",
   "language": "python",
   "name": "python3"
  },
  "language_info": {
   "codemirror_mode": {
    "name": "ipython",
    "version": 3
   },
   "file_extension": ".py",
   "mimetype": "text/x-python",
   "name": "python",
   "nbconvert_exporter": "python",
   "pygments_lexer": "ipython3",
   "version": "3.9.18"
  }
 },
 "nbformat": 4,
 "nbformat_minor": 5
}
