{
 "cells": [
  {
   "cell_type": "markdown",
   "id": "d8bb3d3e-eec5-4a14-bb36-9fdf6b7d00b2",
   "metadata": {},
   "source": [
    "# Distributed dialogue"
   ]
  },
  {
   "cell_type": "markdown",
   "id": "8626bd94-3a0b-4c61-85d6-b157ffc5ac25",
   "metadata": {},
   "source": [
    "This example initializes an assistant agent and a user agent as separate processes and uses RPC to communicate between them. The full codes can be found in in `examples/distributed/distributed_dialog.py`"
   ]
  },
  {
   "cell_type": "markdown",
   "id": "605ebd1c-3222-4dce-b974-6377da37d555",
   "metadata": {},
   "source": [
    "To install AgentScope, please follow the steps in [README.md](https://github.com/alibaba/AgentScope/blob/main/README.md#installation)."
   ]
  },
  {
   "cell_type": "markdown",
   "id": "2417b9fc",
   "metadata": {},
   "source": [
    "First, we need to set the model configs properly."
   ]
  },
  {
   "cell_type": "code",
   "execution_count": 1,
   "id": "8d61bef5",
   "metadata": {},
   "outputs": [],
   "source": [
    "model_configs = [\n",
    "    {\n",
    "        \"type\": \"openai\",\n",
    "        \"name\": \"gpt-3.5-turbo\",\n",
    "        \"parameters\": {\n",
    "            \"api_key\": \"xxx\",\n",
    "            \"organization_id\": \"xxx\",\n",
    "            \"temperature\": 0.0\n",
    "        }\n",
    "    },\n",
    "    {\n",
    "        \"type\": \"openai\",\n",
    "        \"name\": \"gpt-4\",\n",
    "        \"parameters\": {\n",
    "            \"api_key\": \"xxx\",\n",
    "            \"organization_id\": \"xxx\",\n",
    "            \"temperature\": 0.0\n",
    "        }\n",
    "    }\n",
    "]"
   ]
  },
  {
   "cell_type": "markdown",
   "id": "710f835a-ecc8-481f-a4ab-7f0db33e68f4",
   "metadata": {},
   "source": [
    "Then, we need to initialize two agents: an assistant agent and a user agnent.\n",
    "\n",
    "To facilitate display on jupyter, the agents will be started in a standalone multi-process mode. For a fully distributed version, please refer to `examples/distributed/distributed_dialog.py`."
   ]
  },
  {
   "cell_type": "code",
   "execution_count": 2,
   "id": "bf3226dc",
   "metadata": {},
   "outputs": [
    {
     "name": "stderr",
     "output_type": "stream",
     "text": [
      "\u001b[32m2024-01-17 11:31:22.219\u001b[0m | \u001b[1mINFO    \u001b[0m | \u001b[36magentscope.models\u001b[0m:\u001b[36mread_model_configs\u001b[0m:\u001b[36m147\u001b[0m - \u001b[1mLoad configs for model: gpt-3.5-turbo\u001b[0m\n"
     ]
    }
   ],
   "source": [
    "import agentscope\n",
    "from agentscope.agents.user_agent import UserAgent\n",
    "from agentscope.agents.rpc_dialog_agent import RpcDialogAgent\n",
    "\n",
    "agentscope.init(\n",
    "    model_configs=model_configs\n",
    ")\n",
    "\n",
    "assistant_agent = RpcDialogAgent(\n",
    "    name=\"Assistant\",\n",
    "    port=12010,\n",
    "    sys_prompt=\"You are a helpful assistant.\",\n",
    "    model=\"gpt-3.5-turbo\",\n",
    "    use_memory=True,\n",
    ")\n",
    "user_agent = UserAgent(\n",
    "    name=\"User\",\n",
    ")"
   ]
  },
  {
   "cell_type": "markdown",
   "id": "dd70c37d",
   "metadata": {},
   "source": [
    "Finally, let's write the main process of the dialogue and chat with the assistant."
   ]
  },
  {
   "cell_type": "code",
   "execution_count": 3,
   "id": "b0f3c851",
   "metadata": {},
   "outputs": [
    {
     "name": "stdout",
     "output_type": "stream",
     "text": [
      "\u001b[32m2024-01-17 11:32:00.262\u001b[0m | \u001b[1mINFO    \u001b[0m | \u001b[36magentscope.agents.rpc_agent\u001b[0m:\u001b[36mlaunch\u001b[0m:\u001b[36m501\u001b[0m - \u001b[1mStarting rpc server [RpcDialogAgent] at port [12010]...\u001b[0m\n",
      "2024-01-17 11:32:00.792 | INFO     | agentscope.agents.rpc_agent:setup_rcp_agent_server:378 - rpc server [RpcDialogAgent] at port [12010] started successfully\n",
      "2024-01-17 11:32:04.953 | WARNING  | agentscope.models.model:checking_wrapper:122 - Fail to parsing response: Hello! How can I assist you today?.\n",
      " Exception: Expecting value: line 1 column 1 (char 0), \t Attempt 1 / 1\n",
      "Assistant: Hello! How can I assist you today?\n",
      "\u001b[36m\u001b[1mAssistant\u001b[0m\u001b[36m\u001b[0m: Hello! How can I assist you today?\n",
      "2024-01-17 11:32:16.205 | WARNING  | agentscope.models.model:checking_wrapper:122 - Fail to parsing response: Sure, here's a joke for you:\n",
      "\n",
      "Why don't scientists trust atoms?\n",
      "\n",
      "Because they make up literally everything!.\n",
      " Exception: Expecting value: line 1 column 1 (char 0), \t Attempt 1 / 1\n",
      "Assistant: Sure, here's a joke for you:\n",
      "\n",
      "Why don't scientists trust atoms?\n",
      "\n",
      "Because they make up literally everything!\n",
      "\u001b[36m\u001b[1mAssistant\u001b[0m\u001b[36m\u001b[0m: Sure, here's a joke for you:\n",
      "\n",
      "Why don't scientists trust atoms?\n",
      "\n",
      "Because they make up literally everything!\n"
     ]
    },
    {
     "name": "stderr",
     "output_type": "stream",
     "text": [
      "2024-01-17 11:32:00.779 | INFO     | agentscope.models:read_model_configs:147 - Load configs for model: gpt-3.5-turbo\n"
     ]
    }
   ],
   "source": [
    "import time\n",
    "from loguru import logger\n",
    "\n",
    "msg = user_agent()\n",
    "while not msg.content.endswith(\"exit\"):\n",
    "    msg = assistant_agent(msg)\n",
    "    logger.chat(msg.update_value())\n",
    "    time.sleep(0.5)\n",
    "    msg = user_agent(msg)"
   ]
  }
 ],
 "metadata": {
  "kernelspec": {
   "display_name": "Python 3 (ipykernel)",
   "language": "python",
   "name": "python3"
  },
  "language_info": {
   "codemirror_mode": {
    "name": "ipython",
    "version": 3
   },
   "file_extension": ".py",
   "mimetype": "text/x-python",
   "name": "python",
   "nbconvert_exporter": "python",
   "pygments_lexer": "ipython3",
   "version": "3.10.9"
  }
 },
 "nbformat": 4,
 "nbformat_minor": 5
}
