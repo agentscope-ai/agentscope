{
 "cells": [
  {
   "cell_type": "markdown",
   "source": [
    "# Example Conversation with Tool Agent\n",
    "\n",
    "In this example, we will show you \n",
    "- How to use the built-in tool agent and service functions\n",
    "- How to use the `ServiceFactory` module pre-process the tool functions for LLMs\n",
    "- How to create a new service function for the tool agent to use \n",
    "\n",
    "## Prerequisites\n",
    "\n",
    "- Follow the [README.md](https://github.com/modelscope/agentscope) to install agentscope.\n",
    "- Prepare a model configuration. AgentScope supports both local deployed model services (CPU or GPU) and third-party services. More details and example model configurations please refer to our [tutorial](https://modelscope.github.io/agentscope/en/tutorial/203-model.html). \n",
    "- Prepare a bing search API key."
   ],
   "metadata": {
    "collapsed": false
   },
   "id": "da413040f4d20f3f"
  },
  {
   "cell_type": "code",
   "execution_count": 9,
   "outputs": [],
   "source": [
    "BING_API_KEY = \"{YOUR_BING_API_KEY}\"\n",
    "\n",
    "import agentscope\n",
    "\n",
    "agentscope.init(model_configs=\"{YOUR_MODEL_CONFIG}\")\n",
    "YOUR_MODEL_CONFIG_NAME = \"{YOUR_MODEL_CONFIG_NAME}\""
   ],
   "metadata": {
    "collapsed": false,
    "ExecuteTime": {
     "end_time": "2024-03-25T11:00:54.805006Z",
     "start_time": "2024-03-25T11:00:54.794809Z"
    }
   },
   "id": "ba911738f91384ee"
  },
  {
   "cell_type": "markdown",
   "source": [
    "## Guidance\n",
    "\n",
    "### Step 1: Customize a new service function \n",
    "\n",
    "Taking `execute_python_code` as an example, we will show how to create a new service function that can be processed by `ServiceFactory` module. \n",
    "\n",
    "In AgentScope, a service function should have the following structure:\n",
    "\n",
    "- A well formatted docstring (Google style is recommended), which contains\n",
    "    - A brief description of function in docstring. \n",
    "    - A brief description of the input arguments. \n",
    "- Wrap the output and execution status into a `ServiceResponse` object. \n",
    "\n",
    "The following is a simple example of a service function that executes Python code and captures the output. (Also, you can use the `execute_python_code` function in the `agentscope.service` module directly, which provide more features.)"
   ],
   "metadata": {
    "collapsed": false
   },
   "id": "7cf6bea762be5425"
  },
  {
   "cell_type": "code",
   "execution_count": 1,
   "outputs": [],
   "source": [
    "import sys\n",
    "import io\n",
    "from agentscope.service import ServiceResponse, ServiceExecStatus\n",
    "\n",
    "def execute_python_code(code: str):\n",
    "    \"\"\"Execute Python code and capture the output. Note you must print output!\n",
    "    \n",
    "    Args:\n",
    "        code (`str`):\n",
    "            The Python code to be executed.\n",
    "    \"\"\"\n",
    "\n",
    "    # Create a StringIO object to capture the output\n",
    "    old_stdout = sys.stdout\n",
    "    new_stdout = io.StringIO()\n",
    "    sys.stdout = new_stdout\n",
    "    \n",
    "    try:\n",
    "        # Using `exec` to execute code \n",
    "        exec(code)\n",
    "    except Exception as e:\n",
    "        # If an exception occurs, capture the exception information\n",
    "        output = str(e)\n",
    "        status = ServiceExecStatus.ERROR\n",
    "    else:\n",
    "        # If the execution is successful, capture the output\n",
    "        output = new_stdout.getvalue()\n",
    "        status = ServiceExecStatus.SUCCESS\n",
    "    finally:\n",
    "        # Recover the standard output\n",
    "        sys.stdout = old_stdout\n",
    "    \n",
    "    # Wrap the output and status into a ServiceResponse object\n",
    "    return ServiceResponse(status, output)"
   ],
   "metadata": {
    "collapsed": false,
    "ExecuteTime": {
     "end_time": "2024-03-25T10:08:23.605601Z",
     "start_time": "2024-03-25T10:08:20.534146Z"
    }
   },
   "id": "8b62ec94304ed284"
  },
  {
   "cell_type": "markdown",
   "source": [
    "After defining the service function, we try to use `ServiceFactory` to pre-process the tool functions for LLMs."
   ],
   "metadata": {
    "collapsed": false
   },
   "id": "bf88aff84ee740ee"
  },
  {
   "cell_type": "code",
   "execution_count": 2,
   "outputs": [
    {
     "name": "stdout",
     "output_type": "stream",
     "text": [
      "{\n",
      "    \"type\": \"function\",\n",
      "    \"function\": {\n",
      "        \"name\": \"execute_python_code\",\n",
      "        \"description\": \"Execute Python code and capture the output. Note you must `print` the output to get the result.\",\n",
      "        \"parameters\": {\n",
      "            \"type\": \"object\",\n",
      "            \"properties\": {\n",
      "                \"code\": {\n",
      "                    \"type\": \"string\",\n",
      "                    \"description\": \"The Python code to be executed.\"\n",
      "                }\n",
      "            },\n",
      "            \"required\": [\n",
      "                \"code\"\n",
      "            ]\n",
      "        }\n",
      "    }\n",
      "}\n"
     ]
    }
   ],
   "source": [
    "from agentscope.service import ServiceFactory\n",
    "\n",
    "func_for_agent, func_json = ServiceFactory.get(execute_python_code)\n",
    "\n",
    "import json\n",
    "print(json.dumps(func_json, indent=4))"
   ],
   "metadata": {
    "collapsed": false,
    "ExecuteTime": {
     "end_time": "2024-03-25T10:08:23.614023Z",
     "start_time": "2024-03-25T10:08:23.610294Z"
    }
   },
   "id": "a7449ec76f4a9bde"
  },
  {
   "cell_type": "markdown",
   "source": [
    "### Step 2: Prepare all tool functions for the agent\n",
    "\n",
    "Similar as above, we can create different service functions, or use the built-in functions in `agentscope.service` module as follows. More service functions can be found under the `agentscope.service` module.\n",
    "\n",
    "Note to replace the bing search API key with your own key."
   ],
   "metadata": {
    "collapsed": false
   },
   "id": "b260f1a0f02490e"
  },
  {
   "cell_type": "code",
   "execution_count": 3,
   "outputs": [],
   "source": [
    "from agentscope.service import (\n",
    "    bing_search, # or google_search,\n",
    "    read_text_file,\n",
    "    write_text_file, \n",
    "    ServiceFactory\n",
    ")\n",
    "\n",
    "# Deal with arguments that need to be input by developers\n",
    "tools = [\n",
    "    ServiceFactory.get(bing_search, api_key=BING_API_KEY, num_results=3),\n",
    "    ServiceFactory.get(execute_python_code),\n",
    "    ServiceFactory.get(read_text_file),\n",
    "    ServiceFactory.get(write_text_file),\n",
    "]"
   ],
   "metadata": {
    "collapsed": false,
    "ExecuteTime": {
     "end_time": "2024-03-25T10:08:23.617319Z",
     "start_time": "2024-03-25T10:08:23.614728Z"
    }
   },
   "id": "c3be17f5712b8afe"
  },
  {
   "cell_type": "markdown",
   "source": [
    "Let's take a look at the tool functions we have pre-processed."
   ],
   "metadata": {
    "collapsed": false
   },
   "id": "ee2f9ff56a85b948"
  },
  {
   "cell_type": "code",
   "execution_count": 4,
   "outputs": [
    {
     "name": "stdout",
     "output_type": "stream",
     "text": [
      "{\n",
      "    \"type\": \"function\",\n",
      "    \"function\": {\n",
      "        \"name\": \"bing_search\",\n",
      "        \"description\": \"Search question in Bing Search API and return the searching results\",\n",
      "        \"parameters\": {\n",
      "            \"type\": \"object\",\n",
      "            \"properties\": {\n",
      "                \"question\": {\n",
      "                    \"type\": \"string\",\n",
      "                    \"description\": \"The search query string.\"\n",
      "                }\n",
      "            },\n",
      "            \"required\": [\n",
      "                \"question\"\n",
      "            ]\n",
      "        }\n",
      "    }\n",
      "}\n",
      "{\n",
      "    \"type\": \"function\",\n",
      "    \"function\": {\n",
      "        \"name\": \"execute_python_code\",\n",
      "        \"description\": \"Execute Python code and capture the output. Note you must `print` the output to get the result.\",\n",
      "        \"parameters\": {\n",
      "            \"type\": \"object\",\n",
      "            \"properties\": {\n",
      "                \"code\": {\n",
      "                    \"type\": \"string\",\n",
      "                    \"description\": \"The Python code to be executed.\"\n",
      "                }\n",
      "            },\n",
      "            \"required\": [\n",
      "                \"code\"\n",
      "            ]\n",
      "        }\n",
      "    }\n",
      "}\n",
      "{\n",
      "    \"type\": \"function\",\n",
      "    \"function\": {\n",
      "        \"name\": \"read_text_file\",\n",
      "        \"description\": \"Read the content of the text file.\",\n",
      "        \"parameters\": {\n",
      "            \"type\": \"object\",\n",
      "            \"properties\": {\n",
      "                \"file_path\": {\n",
      "                    \"type\": \"string\",\n",
      "                    \"description\": \"The path to the text file to be read.\"\n",
      "                }\n",
      "            },\n",
      "            \"required\": [\n",
      "                \"file_path\"\n",
      "            ]\n",
      "        }\n",
      "    }\n",
      "}\n",
      "{\n",
      "    \"type\": \"function\",\n",
      "    \"function\": {\n",
      "        \"name\": \"write_text_file\",\n",
      "        \"description\": \"Write content to a text file.\",\n",
      "        \"parameters\": {\n",
      "            \"type\": \"object\",\n",
      "            \"properties\": {\n",
      "                \"content\": {\n",
      "                    \"type\": \"string\",\n",
      "                    \"description\": \"Content to write into the file.\"\n",
      "                },\n",
      "                \"overwrite\": {\n",
      "                    \"type\": \"boolean\",\n",
      "                    \"description\": \"Whether to overwrite the file if it already exists.\",\n",
      "                    \"default\": false\n",
      "                },\n",
      "                \"file_path\": {\n",
      "                    \"type\": \"string\",\n",
      "                    \"description\": \"The path to the file where content will be written.\"\n",
      "                }\n",
      "            },\n",
      "            \"required\": [\n",
      "                \"content\",\n",
      "                \"file_path\"\n",
      "            ]\n",
      "        }\n",
      "    }\n",
      "}\n"
     ]
    }
   ],
   "source": [
    "import json\n",
    "\n",
    "for _, description in tools:\n",
    "    print(json.dumps(description, indent=4))"
   ],
   "metadata": {
    "collapsed": false,
    "ExecuteTime": {
     "end_time": "2024-03-25T10:08:23.620484Z",
     "start_time": "2024-03-25T10:08:23.617674Z"
    }
   },
   "id": "97df2b84ecdff562"
  },
  {
   "cell_type": "markdown",
   "source": [
    "### Step 3: Create a Tool Agent and Build a Conversation\n",
    "\n",
    "A tool agent is built in AgentScope as an example to show how to use the service functions. However, a single tool agent and its prompt engineering strategy may not be able to handle all tasks. Developers are encouraged to create their own agents and prompt engineering strategies based on their own needs.\n",
    "\n",
    "Here we just initialize a tool agent and print its system prompt as an example. \n",
    "\n",
    "Note to replace the model configuration name with yours. "
   ],
   "metadata": {
    "collapsed": false
   },
   "id": "76b783a9435cea7f"
  },
  {
   "cell_type": "code",
   "execution_count": 5,
   "outputs": [
    {
     "name": "stdout",
     "output_type": "stream",
     "text": [
      "\u001B[32m2024-03-25 18:08:23.657\u001B[0m | \u001B[1mINFO    \u001B[0m | \u001B[36magentscope.models\u001B[0m:\u001B[36mread_model_configs\u001B[0m:\u001B[36m171\u001B[0m - \u001B[1mLoad configs for model wrapper: post_api\u001B[0m\n",
      "\u001B[32m2024-03-25 18:08:23.660\u001B[0m | \u001B[1mINFO    \u001B[0m | \u001B[36magentscope.utils.monitor\u001B[0m:\u001B[36m_create_monitor_table\u001B[0m:\u001B[36m341\u001B[0m - \u001B[1mInit [monitor_metrics] as the monitor table\u001B[0m\n",
      "\u001B[32m2024-03-25 18:08:23.660\u001B[0m | \u001B[1mINFO    \u001B[0m | \u001B[36magentscope.utils.monitor\u001B[0m:\u001B[36m_create_monitor_table\u001B[0m:\u001B[36m342\u001B[0m - \u001B[1mInit [monitor_metrics_quota_exceeded] as the monitor trigger\u001B[0m\n",
      "\u001B[32m2024-03-25 18:08:23.660\u001B[0m | \u001B[1mINFO    \u001B[0m | \u001B[36magentscope.utils.monitor\u001B[0m:\u001B[36m__init__\u001B[0m:\u001B[36m311\u001B[0m - \u001B[1mSqliteMonitor initialization completed at [./runs/run_20240325-180823_7jf3ed/agentscope.db]\u001B[0m\n",
      "\u001B[32m2024-03-25 18:08:23.670\u001B[0m | \u001B[1mINFO    \u001B[0m | \u001B[36magentscope.models.model\u001B[0m:\u001B[36m__init__\u001B[0m:\u001B[36m256\u001B[0m - \u001B[1mInitialize model [post_api]\u001B[0m\n",
      "\n",
      "You're a helpful assistant. You target is to help users to solve their problems.\n",
      "\n",
      "The following tool functions are available in the format of\n",
      "```\n",
      "{index}. {function name}: {function description}\n",
      "    {argument name} ({argument type}): {argument description}\n",
      "    ...\n",
      "```\n",
      "\n",
      "Tool Functions:\n",
      "1. bing_search: Search question in Bing Search API and return the searching results\n",
      "\tquestion (string): The search query string.\n",
      "2. execute_python_code: Execute Python code and capture the output. Note you must `print` the output to get the result.\n",
      "\tcode (string): The Python code to be executed.\n",
      "3. read_text_file: Read the content of the text file.\n",
      "\tfile_path (string): The path to the text file to be read.\n",
      "4. write_text_file: Write content to a text file.\n",
      "\tcontent (string): Content to write into the file.\n",
      "\toverwrite (boolean): Whether to overwrite the file if it already exists.\n",
      "\tfile_path (string): The path to the file where content will be written.\n",
      "\n",
      "Notice:\n",
      "1. Fully understand the tool function and its arguments before using it.\n",
      "2. Only use the tool function when it's necessary.\n",
      "3. Check if the arguments you provided to the tool function is correct in type and value.\n",
      "4. You can't take some problems for granted. For example, where you are, what's the time now, etc. But you can try to use the tool function to solve the problem.\n",
      "5. If the function execution fails, you should analyze the error and try to solve it. \n"
     ]
    }
   ],
   "source": [
    "from agentscope.agents import ToolAgent\n",
    "\n",
    "agent = ToolAgent(\n",
    "    name=\"Assistant\",\n",
    "    model_config_name=YOUR_MODEL_CONFIG_NAME,\n",
    "    tools=tools,\n",
    "    verbose=True, # whether to print the raw response from LLM, execution status, and output\n",
    ")\n",
    "\n",
    "print(agent.sys_prompt)"
   ],
   "metadata": {
    "collapsed": false,
    "ExecuteTime": {
     "end_time": "2024-03-25T10:08:23.676320Z",
     "start_time": "2024-03-25T10:08:23.624455Z"
    }
   },
   "id": "a3b41faa7e15a611"
  },
  {
   "cell_type": "markdown",
   "source": [
    "Let's try some simple question here to see how the tool agent works.\n",
    "\n",
    "The first question is \"What's the date today?\". We expect the tool agent to execute the Python code to get the date."
   ],
   "metadata": {
    "collapsed": false
   },
   "id": "ad691bbfec5f0f38"
  },
  {
   "cell_type": "code",
   "execution_count": 6,
   "outputs": [
    {
     "name": "stdout",
     "output_type": "stream",
     "text": [
      "\u001B[34m########################### RAW RESPONSE FROM MODEL ############################\u001B[0m\n",
      "\u001B[34m{\n",
      "    \"thought\": \"I can use Python's datetime module to get the current date.\",\n",
      "    \"speak\": \"Let me check that for you.\",\n",
      "    \"function\": [\n",
      "        {\n",
      "            \"name\": \"execute_python_code\",\n",
      "            \"arguments\": {\n",
      "                \"code\": \"from datetime import date\\ntoday = date.today()\\nprint(today)\"\n",
      "            }\n",
      "        }\n",
      "    ]\n",
      "}\u001B[0m\n",
      "\u001B[34m############################### EXECUTE FUNCTION ###############################\u001B[0m\n",
      "\u001B[34mFUNCTION NAME: execute_python_code\u001B[0m\n",
      "\u001B[34mFUNCTION ARGS: \n",
      "{\n",
      "    \"code\": \"from datetime import date\\ntoday = date.today()\\nprint(today)\"\n",
      "}\u001B[0m\n",
      "\u001B[34mEXECUTE RESULT: \n",
      "\tSTATUS: ('SUCCESS',)\n",
      "\tCONTENT: 2024-03-25\n",
      "\u001B[0m\n",
      "\u001B[34m#################################END EXECUTION##################################\u001B[0m\n",
      "\u001B[36m\u001B[1mAssistant\u001B[0m\u001B[36m\u001B[0m: Let me check that for you.\n",
      "\u001B[36m\u001B[1mAssistant\u001B[0m\u001B[36m\u001B[0m: Today's date is March 25, 2024.\n"
     ]
    }
   ],
   "source": [
    "from agentscope.message import Msg\n",
    "\n",
    "# The first question\n",
    "q1_msg = Msg(\"user\", \"What's the date today?\", role=\"user\")\n",
    "q1_res = agent(q1_msg)"
   ],
   "metadata": {
    "collapsed": false,
    "ExecuteTime": {
     "end_time": "2024-03-25T10:08:28.919722Z",
     "start_time": "2024-03-25T10:08:23.675273Z"
    }
   },
   "id": "ce3a0605d559216c"
  },
  {
   "cell_type": "markdown",
   "source": [
    "The second question is \"What's the weather like today?\". We expect the tool agent to use the web search API to get the weather information."
   ],
   "metadata": {
    "collapsed": false
   },
   "id": "bcfd36183756b3d4"
  },
  {
   "cell_type": "code",
   "execution_count": 7,
   "outputs": [
    {
     "name": "stdout",
     "output_type": "stream",
     "text": [
      "\u001B[34m########################### RAW RESPONSE FROM MODEL ############################\u001B[0m\n",
      "\u001B[34m{\n",
      "    \"thought\": \"I need to search the internet to find the current weather in Beijing.\",\n",
      "    \"speak\": \"Let me check the weather for you.\",\n",
      "    \"function\": [\n",
      "        {\n",
      "            \"name\": \"bing_search\",\n",
      "            \"arguments\": {\n",
      "                \"question\": \"current weather in Beijing\"\n",
      "            }\n",
      "        }\n",
      "    ]\n",
      "}\u001B[0m\n",
      "\u001B[34m############################### EXECUTE FUNCTION ###############################\u001B[0m\n",
      "\u001B[34mFUNCTION NAME: bing_search\u001B[0m\n",
      "\u001B[34mFUNCTION ARGS: \n",
      "{\n",
      "    \"question\": \"current weather in Beijing\"\n",
      "}\u001B[0m\n",
      "\u001B[36m\u001B[1mAssistant\u001B[0m\u001B[36m\u001B[0m: Let me check the weather for you.\n",
      "\u001B[34mEXECUTE RESULT: \n",
      "\tSTATUS: ('SUCCESS',)\n",
      "\tCONTENT: [{'title': 'Beijing, Beijing Municipality, China 14 day weather forecast', 'link': 'https://www.timeanddate.com/weather/china/beijing/ext', 'snippet': 'Currently: 69 °F. Haze. (Weather station: Beijing, China). See more current weather. Beijing Extended Forecast with high and low temperatures. °F. Mar 18 – Mar 24. Lo:41. Sat, 23. Hi:71. 2. Lo:46. Sun, 24. Hi:58. 4. Mar 25 – Mar 31. Lo:45. Mon, 25. Hi:60. 3. Lo:40. Tue, 26. Hi:68. 11. 0.01. Lo:46. Wed, 27. Hi:72. 11. Lo:40. Thu, 28.'}, {'title': 'Beijing, Beijing, China Current Weather | AccuWeather', 'link': 'https://www.accuweather.com/en/cn/beijing/101924/current-weather/101924', 'snippet': 'Current Weather. 6:58 PM. 46° F. Overcast. RealFeel® 36°. Wind Gusts. 15 mph. Humidity. 42% Indoor Humidity. 34% (Dry) Dew Point. 24° F. Pressure. ↑ 29.91 in. Cloud Cover. 91% Visibility. 10 mi....'}]\u001B[0m\n",
      "\u001B[34m#################################END EXECUTION##################################\u001B[0m\n",
      "\u001B[36m\u001B[1mAssistant\u001B[0m\u001B[36m\u001B[0m: The current weather in Beijing is overcast with a temperature of 46°F. The wind is gusting at 15 mph and the humidity is at 42%.\n"
     ]
    }
   ],
   "source": [
    "q2_msg = Msg(\"user\", \"What's the weather like today in Beijing?\", role=\"user\")\n",
    "q2_res = agent(q2_msg)"
   ],
   "metadata": {
    "collapsed": false,
    "ExecuteTime": {
     "end_time": "2024-03-25T10:08:41.033402Z",
     "start_time": "2024-03-25T10:08:33.230126Z"
    }
   },
   "id": "a8e15df2358acb73"
  },
  {
   "cell_type": "markdown",
   "source": [
    "The above provide two example questions, and you can try to interact with the tool agent by building a conversation with it as follows. \n",
    "```python\n",
    "from agentscope.agents import UserAgent\n",
    "\n",
    "user = UserAgent(name=\"User\")\n",
    "x = None\n",
    "while True:\n",
    "    x = user(x)\n",
    "    if x.content == \"exit\":\n",
    "        break\n",
    "    x = agent(x)\n",
    "```\n",
    "\n",
    "We provide complete code for building a conversation with the tool agent in [code/main.py](./code/main.py). Feel free to try it and implement your own tool agent!"
   ],
   "metadata": {
    "collapsed": false
   },
   "id": "2b9a88f85d1778d9"
  },
  {
   "cell_type": "code",
   "execution_count": null,
   "outputs": [],
   "source": [],
   "metadata": {
    "collapsed": false
   },
   "id": "bcf755f0f09f92b"
  }
 ],
 "metadata": {
  "kernelspec": {
   "display_name": "Python 3",
   "language": "python",
   "name": "python3"
  },
  "language_info": {
   "codemirror_mode": {
    "name": "ipython",
    "version": 2
   },
   "file_extension": ".py",
   "mimetype": "text/x-python",
   "name": "python",
   "nbconvert_exporter": "python",
   "pygments_lexer": "ipython2",
   "version": "2.7.6"
  }
 },
 "nbformat": 4,
 "nbformat_minor": 5
}
