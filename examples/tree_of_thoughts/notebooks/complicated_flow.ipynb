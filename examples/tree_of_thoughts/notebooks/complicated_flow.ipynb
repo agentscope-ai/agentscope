{
 "cells": [
  {
   "cell_type": "markdown",
   "metadata": {},
   "source": [
    "# Build Complicated WorkFlow - Reflection"
   ]
  },
  {
   "cell_type": "markdown",
   "metadata": {},
   "source": [
    "Reflection is a prompting strategy used to improve the quality and success rate of agents and similar AI systems. In this exampple, we will build a complex workflow that includes writer agents and critic agents. The writing agents will generate draft solutions, while the critic agent will check mistakes and provide the feedback. This critic-revision process can happen in parallel and in the end one picker agent is employed to pick the best draft."
   ]
  },
  {
   "cell_type": "markdown",
   "metadata": {},
   "source": [
    "![FLOW Diagrm](../figs/mermaid-diagram-2024-04-19-021456.png)"
   ]
  },
  {
   "cell_type": "markdown",
   "metadata": {},
   "source": [
    "Let's begin by specifying the model configuration and examining how's the draft of a single agent."
   ]
  },
  {
   "cell_type": "code",
   "execution_count": 11,
   "metadata": {},
   "outputs": [],
   "source": [
    "MODEL_CONFIGURATION = {\n",
    "    \"config_name\": \"gpt-3.5-turbo\",\n",
    "    \"model_type\": \"openai_chat\",\n",
    "    \"model_name\": \"gpt-3.5-turbo\",\n",
    "    \"api_key\": \"\",\n",
    "    \"organizations\": \"\",\n",
    "    \"generate_args\": {\n",
    "        \"temperature\": 0.5\n",
    "    }}"
   ]
  },
  {
   "cell_type": "code",
   "execution_count": 12,
   "metadata": {},
   "outputs": [
    {
     "name": "stdout",
     "output_type": "stream",
     "text": [
      "In the vast expanse where sky meets sea,\n",
      "Whispers of waves sing a melodic plea.\n",
      "Salt-kissed air dances with seagulls in flight,\n",
      "As the sun dips below the horizon's light.\n",
      "Majestic depths hold secrets untold,\n",
      "Where mysteries lie in the ocean's hold.\n",
      "Turquoise waters beckon, a siren's call,\n",
      "A timeless beauty captivating all.\n",
      "The ocean's embrace, a tranquil repose,\n",
      "Where the heart finds solace and the spirit glows.\n",
      "\n",
      "\n"
     ]
    }
   ],
   "source": [
    "from agentscope.agents import DialogAgent\n",
    "import agentscope\n",
    "from agentscope.message import Msg\n",
    "agentscope.init(model_configs=MODEL_CONFIGURATION)\n",
    "agent = DialogAgent(\n",
    "    name=\"writer\",\n",
    "    model_config_name=\"gpt-3.5-turbo\",\n",
    "    sys_prompt=\"You are an experience poet. You will receive some critics, try to improve your poem.\",\n",
    ")\n",
    "INITIAL_PROMPT = \"\"\"\n",
    "   Write me a 10-line short poem about the ocean.\n",
    "\"\"\"\n",
    "msg = Msg(name=\"user\", \n",
    "          role=\"user\", \n",
    "          content=INITIAL_PROMPT)\n",
    "res = agent(msg)\n",
    "print(res.content)"
   ]
  },
  {
   "cell_type": "markdown",
   "metadata": {},
   "source": [
    "Looks o let's here from the critic agent"
   ]
  },
  {
   "cell_type": "code",
   "execution_count": 5,
   "metadata": {},
   "outputs": [],
   "source": [
    "CRITIC_PROMPT = (\n",
    "\"You are an poetry critic.\"\n",
    "\"You appreciate the style of William Shakespeare the most\"\n",
    "\"You will receive poem from a writer\"\n",
    "\"Reflect and critique the poem. Be severe to maximize improvement.\")\n",
    "critic = DialogAgent(\n",
    "    name=\"critic\",\n",
    "    model_config_name=\"gpt-3.5-turbo\",\n",
    "    sys_prompt=CRITIC_PROMPT,\n",
    ")"
   ]
  },
  {
   "cell_type": "code",
   "execution_count": 6,
   "metadata": {},
   "outputs": [
    {
     "name": "stdout",
     "output_type": "stream",
     "text": [
      "Your poem captures the serene beauty of the ocean with vivid imagery and a soothing rhythm. However, it lacks the depth and complexity that would truly make it stand out. To enhance your work, try to delve deeper into the emotions and themes you wish to convey. Consider experimenting with different poetic devices such as metaphors, similes, and alliteration to add layers of meaning to your verses. Additionally, pay attention to the structure and form of your poem to create a more impactful and memorable piece. Keep refining your craft to reach the level of mastery seen in the works of Shakespeare.\n"
     ]
    }
   ],
   "source": [
    "feedback = critic(res)\n",
    "print(feedback.content)"
   ]
  },
  {
   "cell_type": "markdown",
   "metadata": {},
   "source": [
    "The critic agent is really being severe indeed.To implement the revision-imporve feedbackloop, we can certainly use some thing like "
   ]
  },
  {
   "cell_type": "markdown",
   "metadata": {},
   "source": [
    "```python\n",
    "from agentscope.pipelines.functional import sequentialpipeline\n",
    "MAX_RETRIES = 2\n",
    "for _ in range(MAX_RETRIES):\n",
    "    workflow = sequentialpipeline(agent, critic)\n",
    "\n",
    "```"
   ]
  },
  {
   "cell_type": "markdown",
   "metadata": {},
   "source": [
    "However, we adopt a different approach, which treats the workflow as a graph, as shown in the initial figure of the example. In this approach, each node represents an agent, and every edge represents a function that parses the output of one agent and links it to the next (see *\\code\\workflow.py*). Based on the simple and intuitive design of AgentScope, you can certainly build complicated systems in the way you pref."
   ]
  },
  {
   "cell_type": "code",
   "execution_count": 10,
   "metadata": {},
   "outputs": [],
   "source": [
    "from workflow import SequentialWorkFlow\n",
    "critic_revision_workflow = SequentialWorkFlow()\n",
    "critic_revision_workflow.register_contexts({'max_retries': 1, \n",
    "                                            'is_solved': False, \n",
    "                                            'retry_count': 0, \n",
    "                                            'history': []})\n",
    "writer = DialogAgent(\n",
    "    name=\"writer\",\n",
    "    model_config_name=\"gpt-3.5-turbo\",\n",
    "    sys_prompt=\"You are a helpful assistant.\",\n",
    ")\n",
    "critic = DialogAgent(\n",
    "    name=\"critic\",\n",
    "    model_config_name=\"gpt-3.5-turbo\",\n",
    "    sys_prompt=CRITIC_PROMPT,\n",
    ")\n",
    "critic_revision_workflow.add_node(writer, \"writer\")\n",
    "critic_revision_workflow.add_node(critic, \"critic\")\n",
    "critic_revision_workflow.add_node(lambda x: print(x.content), \"printer\")\n",
    "\n",
    "def store_draft_callback(msg, workflow, *args, **kwargs):\n",
    "    workflow.contexts['history'].append(msg.content)\n",
    "    return msg, 'critic'\n",
    "\n",
    "def critic_revision_callback(msg, workflow, *args, **kwargs):\n",
    "    max_count = workflow.contexts['max_retries']\n",
    "    retry_count = workflow.contexts['retry_count']\n",
    "    print(f\"Retry count: {retry_count}/{max_count}\")\n",
    "    if retry_count >= max_count:\n",
    "        last_draft = workflow.contexts['history'][-1]\n",
    "        return Msg(name='writer', content=last_draft), 'EXIT'\n",
    "    else:\n",
    "        workflow.contexts['retry_count'] += 1\n",
    "        return Msg(name='crtic', content=msg.content), 'writer'\n",
    "    \n",
    "critic_revision_workflow.add_edge('writer', store_draft_callback)\n",
    "critic_revision_workflow.add_edge('critic', critic_revision_callback)\n",
    "critic_revision_workflow.set_entry_node('writer')\n",
    "critic_revision_workflow.set_exit_node('printer')"
   ]
  },
  {
   "cell_type": "code",
   "execution_count": 11,
   "metadata": {},
   "outputs": [
    {
     "name": "stdout",
     "output_type": "stream",
     "text": [
      "Retry count: 0/1\n",
      "Retry count: 1/1\n"
     ]
    },
    {
     "data": {
      "text/plain": [
       "{'id': '4c8f3a9e970b45bb9acd163111d52158',\n",
       " 'timestamp': '2024-04-19 03:53:45',\n",
       " 'name': 'writer',\n",
       " 'content': \"Here is an improved version of the poem:\\n\\nBeneath the azure sky's expanse,\\nThe ocean's song, a hypnotic dance.\\nWhispers of waves, a soothing lullaby,\\nAs sunlight dances on waves high.\\n\\nMajestic tides, a timeless flow,\\nRevealing secrets of long ago.\\nIn depths where mysteries lie unseen,\\nA world of wonders, tranquil and serene.\\n\\nWithin the ocean's vast embrace,\\nA symphony of beauty and grace.\",\n",
       " 'role': 'assistant',\n",
       " 'url': None}"
      ]
     },
     "execution_count": 11,
     "metadata": {},
     "output_type": "execute_result"
    }
   ],
   "source": [
    "msg = Msg(name=\"user\",\n",
    "            role=\"user\",\n",
    "            content=INITIAL_PROMPT)\n",
    "critic_revision_workflow(msg)"
   ]
  },
  {
   "cell_type": "markdown",
   "metadata": {},
   "source": [
    "Let's see how the draft get improved "
   ]
  },
  {
   "cell_type": "code",
   "execution_count": 12,
   "metadata": {},
   "outputs": [
    {
     "name": "stdout",
     "output_type": "stream",
     "text": [
      "####################\n",
      "Beneath the sky so vast and blue,\n",
      "The ocean dances in shades of hue.\n",
      "Whispers of waves in rhythmic motion,\n",
      "A symphony of nature's devotion.\n",
      "\n",
      "Majestic tides ebb and flow,\n",
      "Secrets hidden far below.\n",
      "Mysteries in depths unknown,\n",
      "A world of wonder to be shown.\n",
      "\n",
      "In the ocean's embrace, we find peace,\n",
      "A timeless beauty that will never cease.\n",
      "####################\n",
      "↓\n",
      "####################\n",
      "Here is an improved version of the poem:\n",
      "\n",
      "Beneath the azure sky's expanse,\n",
      "The ocean's song, a hypnotic dance.\n",
      "Whispers of waves, a soothing lullaby,\n",
      "As sunlight dances on waves high.\n",
      "\n",
      "Majestic tides, a timeless flow,\n",
      "Revealing secrets of long ago.\n",
      "In depths where mysteries lie unseen,\n",
      "A world of wonders, tranquil and serene.\n",
      "\n",
      "Within the ocean's vast embrace,\n",
      "A symphony of beauty and grace.\n",
      "####################\n"
     ]
    }
   ],
   "source": [
    "for i,draft in enumerate(critic_revision_workflow.contexts['history']):\n",
    "    print(\"#\"*20)\n",
    "    print(draft)\n",
    "    print(\"#\"*20)\n",
    "    print(\"\\u2193\") if i < len(critic_revision_workflow.contexts['history'])-1 else None"
   ]
  },
  {
   "cell_type": "markdown",
   "metadata": {},
   "source": [
    "Not bad. I personally do prefer the second version and some modifications are impressive \n",
    "\n",
    "| Original                             | Improved                              |\n",
    "|--------------------------------------|---------------------------------------|\n",
    "| The ocean dances in shades of hue    | The ocean's song, a hypnotic dance    |\n",
    "| Whispers of waves in rhythmic motion | Whispers of waves, a soothing lullaby |\n",
    "| A symphony of nature's devotion.     | As sunlight dances on waves high.     |"
   ]
  },
  {
   "cell_type": "markdown",
   "metadata": {},
   "source": [
    "We can also prompt the critic to adopt different poetic styles, such as those of Emily Dickinson, Robert Frost, or William Shakespeare. This way, the generated drafts will exhibit varying styles, allowing us to ultimately select the one we prefer.\" In fact you can also let these agents have different models, different prompts, different arguments, sounds like a poem competition among agents. "
   ]
  },
  {
   "cell_type": "code",
   "execution_count": 38,
   "metadata": {},
   "outputs": [],
   "source": [
    "workflows = []\n",
    "poets_names = [\"Emily Dickinson\", \"Robert Frost\", \"William Shakespeare\"]\n",
    "for i in range(3):\n",
    "    CRITIC_PROMPT = (\n",
    "    \"You are an poetry critic.\"\n",
    "    f\"You appreciate the style of {poets_names[i]} the most\"\n",
    "    \"You will receive poem about ocean from a writer\"\n",
    "    \"Reflect and critique the poem. Be severe to maximize improvement.\")\n",
    "    critic_revision_workflow = SequentialWorkFlow()\n",
    "    critic_revision_workflow.register_contexts({'max_retries': 1, \n",
    "                                                'is_solved': False, \n",
    "                                                'retry_count': 0, \n",
    "                                                'history': []})\n",
    "    writer = DialogAgent(\n",
    "        name=\"writer\",\n",
    "        model_config_name=\"gpt-3.5-turbo\",\n",
    "        sys_prompt=\"You are poet. You will receive some critics, try to improve your poem.\",\n",
    "    )\n",
    "    critic = DialogAgent(\n",
    "        name=\"critic\",\n",
    "        model_config_name=\"gpt-3.5-turbo\",\n",
    "        sys_prompt=CRITIC_PROMPT,\n",
    "    )\n",
    "    critic_revision_workflow.add_node(writer, \"writer\")\n",
    "    critic_revision_workflow.add_node(critic, \"critic\")\n",
    "    critic_revision_workflow.add_node(lambda x: print(x.content), \"printer\")\n",
    "    critic_revision_workflow.add_edge('writer', store_draft_callback)\n",
    "    critic_revision_workflow.add_edge('critic', critic_revision_callback)\n",
    "    critic_revision_workflow.set_entry_node('writer')\n",
    "    critic_revision_workflow.set_exit_node('printer')\n",
    "    workflows.append(critic_revision_workflow)"
   ]
  },
  {
   "cell_type": "markdown",
   "metadata": {},
   "source": [
    "Now, we want execute these three workflows in parallel and use another agent to select the best draft."
   ]
  },
  {
   "cell_type": "code",
   "execution_count": 39,
   "metadata": {},
   "outputs": [],
   "source": [
    "from workflow import ParallelWorkFlow\n",
    "def aggregate_fn(results):\n",
    "    PROMPT = f\"Flowing are the drafts\"\n",
    "    for i, result in enumerate(results):\n",
    "        PROMPT += f\"\\n\\nDraft {i+1}: {result}\"\n",
    "    msg = Msg(name=\"draft\", content=PROMPT)\n",
    "    return msg\n",
    "\n",
    "parallel_workflow = ParallelWorkFlow(aggregation_fn=aggregate_fn)\n",
    "for i, workflow in enumerate(workflows):\n",
    "    parallel_workflow.add_workflow(f\"workflow_{i}\", workflow)\n",
    "\n",
    "large_workflow = SequentialWorkFlow()\n",
    "large_workflow.add_node(parallel_workflow, \"parallel_workflow\")\n",
    "\n",
    "picker_agent = DialogAgent(\n",
    "    name=\"picker\",\n",
    "    model_config_name=\"gpt-3.5-turbo\",\n",
    "    sys_prompt=(\"You are a poetry editor. \"\n",
    "                \"Pick the best draft from the following drafts based on the style and creativity.\"\n",
    "                \"Just respond with your selected choice and the full draft.\"\n",
    "                \"Also provide a reason for your choice.\")\n",
    "                )\n",
    "\n",
    "large_workflow.add_node(picker_agent, \"picker\")\n",
    "large_workflow.add_edge(\"parallel_workflow\", \"picker\")\n",
    "large_workflow.set_entry_node(\"parallel_workflow\")\n",
    "large_workflow.set_exit_node(\"picker\")"
   ]
  },
  {
   "cell_type": "code",
   "execution_count": 40,
   "metadata": {},
   "outputs": [
    {
     "name": "stdout",
     "output_type": "stream",
     "text": [
      "Retry count: 0/1\n",
      "Retry count: 0/1\n",
      "Retry count: 0/1\n",
      "Retry count: 1/1\n",
      "Retry count: 1/1\n",
      "Retry count: 1/1\n",
      "I have chosen Draft 3: workflow_2 as the best draft.\n",
      "\n",
      "Draft 3: workflow_2\n",
      "In the garden of dreams, where moonbeams dance,\n",
      "Whispers of stardust in a fleeting trance.\n",
      "Petals of wishes, blooming bright,\n",
      "Under the velvet cloak of night.\n",
      "\n",
      "Reason: This draft stood out to me due to its enchanting imagery and lyrical flow. The use of vivid descriptions like \"moonbeams dance\" and \"whispers of stardust\" creates a magical and dreamy atmosphere. The overall elegance and beauty of the language make this draft a standout choice.\n"
     ]
    }
   ],
   "source": [
    "initial_msg = Msg(name=\"user\", \n",
    "                  content=\"Write me a 10-line short poem about the ocean.\")\n",
    "final_pick = large_workflow(initial_msg)\n",
    "print(final_pick.content)"
   ]
  },
  {
   "cell_type": "markdown",
   "metadata": {},
   "source": [
    "---"
   ]
  }
 ],
 "metadata": {
  "kernelspec": {
   "display_name": "agentscope",
   "language": "python",
   "name": "python3"
  },
  "language_info": {
   "codemirror_mode": {
    "name": "ipython",
    "version": 3
   },
   "file_extension": ".py",
   "mimetype": "text/x-python",
   "name": "python",
   "nbconvert_exporter": "python",
   "pygments_lexer": "ipython3",
   "version": "3.9.19"
  }
 },
 "nbformat": 4,
 "nbformat_minor": 2
}
