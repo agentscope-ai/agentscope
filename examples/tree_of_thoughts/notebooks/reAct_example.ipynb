{
 "cells": [
  {
   "cell_type": "markdown",
   "metadata": {},
   "source": [
    "# Use reActAgent to perform complicated task\n"
   ]
  },
  {
   "cell_type": "markdown",
   "metadata": {},
   "source": [
    "In this example, we create a *reactAgent* to perform a more complex task: writing a markdown solution for a simple physics problem. To solve the problem, the agent needs to:\n",
    "- Search the internet to obtain the exact values of the required results.\n",
    "- Generate the solution to the problem.\n",
    "- Write the solution to a file in markdown format"
   ]
  },
  {
   "cell_type": "markdown",
   "metadata": {},
   "source": [
    "Let's set the model configuration at first"
   ]
  },
  {
   "cell_type": "code",
   "execution_count": 1,
   "metadata": {},
   "outputs": [],
   "source": [
    "MODEL_CONFIGURATION = {\n",
    "    \"config_name\": \"gpt-4\",\n",
    "    \"model_type\": \"openai_chat\",\n",
    "    \"model_name\": \"gpt-4\",\n",
    "    \"api_key\": \"YOUR API\",\n",
    "}\n",
    "SEARCH_ENGINE_API = \"YOUR SEARCH ENGINE API\""
   ]
  },
  {
   "cell_type": "markdown",
   "metadata": {},
   "source": [
    "*AgentScope* offers a series of services, including one that can enable the agent to search the internet and obtain the exact values required for the problem."
   ]
  },
  {
   "cell_type": "code",
   "execution_count": 2,
   "metadata": {},
   "outputs": [],
   "source": [
    "from agentscope.service import ServiceFactory\n",
    "from agentscope.service import bing_search\n",
    "tools = [\n",
    "    ServiceFactory.get(bing_search, api_key=SEARCH_ENGINE_API, num_results=3),\n",
    "]"
   ]
  },
  {
   "cell_type": "markdown",
   "metadata": {},
   "source": [
    "Let's create a *ReActAgent* and specify the tools can be accessed by it."
   ]
  },
  {
   "cell_type": "code",
   "execution_count": 3,
   "metadata": {},
   "outputs": [
    {
     "name": "stdout",
     "output_type": "stream",
     "text": [
      "2024-04-18 16:03:10.918 | INFO     | agentscope.models:read_model_configs:178 - Load configs for model wrapper: gpt-4\n",
      "2024-04-18 16:03:10.933 | INFO     | agentscope.utils.monitor:_create_monitor_table:343 - Init [monitor_metrics] as the monitor table\n",
      "2024-04-18 16:03:10.934 | INFO     | agentscope.utils.monitor:_create_monitor_table:344 - Init [monitor_metrics_quota_exceeded] as the monitor trigger\n",
      "2024-04-18 16:03:10.934 | INFO     | agentscope.utils.monitor:__init__:313 - SqliteMonitor initialization completed at [./runs\\run_20240418-160308_9q4v9y\\agentscope.db]\n",
      "2024-04-18 16:03:10.936 | INFO     | agentscope.models.model:__init__:204 - Initialize model [gpt-4]\n"
     ]
    },
    {
     "name": "stdout",
     "output_type": "stream",
     "text": [
      "2024-04-18 16:03:11.251 | INFO     | agentscope.utils.monitor:register_budget:556 - set budget None to gpt-4\n",
      "2024-04-18 16:03:11.255 | INFO     | agentscope.utils.monitor:register:364 - Register metric [gpt-4.cost] to SqliteMonitor with unit [dollor] and quota [None]\n",
      "2024-04-18 16:03:11.262 | INFO     | agentscope.utils.monitor:register:364 - Register metric [gpt-4.prompt_tokens] to SqliteMonitor with unit [token] and quota [None]\n",
      "2024-04-18 16:03:11.278 | INFO     | agentscope.utils.monitor:register:364 - Register metric [gpt-4.completion_tokens] to SqliteMonitor with unit [token] and quota [None]\n",
      "2024-04-18 16:03:11.292 | INFO     | agentscope.utils.monitor:register:364 - Register metric [gpt-4.call_counter] to SqliteMonitor with unit [times] and quota [None]\n",
      "2024-04-18 16:03:11.301 | INFO     | agentscope.utils.monitor:register:364 - Register metric [gpt-4.total_tokens] to SqliteMonitor with unit [token] and quota [None]\n"
     ]
    }
   ],
   "source": [
    "from agentscope.agents import ReActAgent\n",
    "import agentscope\n",
    "agentscope.init(model_configs=MODEL_CONFIGURATION)\n",
    "agent = ReActAgent(\n",
    "    name=\"assistant\",\n",
    "    model_config_name=\"gpt-4\",\n",
    "    tools=tools,\n",
    "    sys_prompt=\"You are a helpful assistant.\",\n",
    "    verbose=True,\n",
    ")"
   ]
  },
  {
   "cell_type": "markdown",
   "metadata": {},
   "source": [
    "The initial prompt of the *reactAgent* can be viewed, which demonstrates how *AgentScope* automatically notifies the agent about the available tools and services that can be leveraged to complete the task."
   ]
  },
  {
   "cell_type": "code",
   "execution_count": 4,
   "metadata": {},
   "outputs": [
    {
     "name": "stdout",
     "output_type": "stream",
     "text": [
      "You are a helpful assistant.\n",
      "The following tool functions are available in the format of\n",
      "```\n",
      "{index}. {function name}: {function description}\n",
      "    {argument1 name} ({argument type}): {argument description}\n",
      "    {argument2 name} ({argument type}): {argument description}\n",
      "    ...\n",
      "```\n",
      "\n",
      "## Tool Functions:\n",
      "1. bing_search: Search question in Bing Search API and return the searching results\n",
      "\tquestion (string): The search query string.\n",
      "\n",
      "## What You Should Do:\n",
      "1. First, analyze the current situation, and determine your goal.\n",
      "2. Then, check if your goal is already achieved. If so, try to generate a response. Otherwise, think about how to achieve it with the help of provided tool functions.\n",
      "3. Respond in the required format.\n",
      "\n",
      "## Note:\n",
      "1. Fully understand the tool functions and their arguments before using them.\n",
      "2. You should decide if you need to use the tool functions, if not then return an empty list in \"function\" field.\n",
      "3. Make sure the types and values of the arguments you provided to the tool functions are correct.\n",
      "4. Don't take things for granted. For example, where you are, what's the time now, etc. You can try to use the tool functions to get information.\n",
      "5. If the function execution fails, you should analyze the error and try to solve it.\n",
      "\n",
      "\n"
     ]
    }
   ],
   "source": [
    "print(agent.sys_prompt)"
   ]
  },
  {
   "cell_type": "markdown",
   "metadata": {},
   "source": [
    "Note how AgentScope automatically instructs the agent to utilize the provided tool in initial prompt. We can test the agent's capability to search online and obtain accurate results by asking them: 'Who has more average points per game during their career, LeBron James or Stephen Curry?'\""
   ]
  },
  {
   "cell_type": "code",
   "execution_count": 5,
   "metadata": {},
   "outputs": [],
   "source": [
    "from agentscope.message import Msg\n",
    "msg = Msg(\n",
    "    name=\"user\", \n",
    "    content=\"Who has more average points during his career, LeBron James or Stephen Curry?\",\n",
    "    role=\"user\"\n",
    ")"
   ]
  },
  {
   "cell_type": "code",
   "execution_count": 6,
   "metadata": {},
   "outputs": [
    {
     "name": "stdout",
     "output_type": "stream",
     "text": [
      "##################### ITER 1, STEP 1: REASONING ######################\n",
      "assistant: \n",
      "system: Your response is not a JSON object, and cannot be parsed by `json.loads` in parse function:\n",
      "## Your Response:\n",
      "[YOUR RESPONSE BEGIN]\n",
      "\n",
      "[YOUR RESPONSE END]\n",
      "\n",
      "## Error Information:\n",
      "JSONDecodeError: Expecting value: line 1 column 1 (char 0)\n",
      "\n",
      "Analyze the reason, and re-correct your response in the correct format.\n",
      "##################### ITER 2, STEP 1: REASONING ######################\n",
      "assistant: {\n",
      "    \"thought\": \"The user wants to know who has more average points during his career, LeBron James or Stephen Curry. I don't have this information, so I will use the 'bing_search' function twice, once to find the average career points for LeBron James and once for Stephen Curry.\",\n",
      "    \"speak\": \"Let me check this information for you.\",\n",
      "    \"function\": [\n",
      "        {\n",
      "            \"name\": \"bing_search\",\n",
      "            \"arguments\": {\n",
      "                \"question\": \"LeBron James career average points\"\n",
      "            }\n",
      "        },\n",
      "        {\n",
      "            \"name\": \"bing_search\",\n",
      "            \"arguments\": {\n",
      "                \"question\": \"Stephen Curry career average points\"\n",
      "            }\n",
      "        }\n",
      "    ]\n",
      "}\n",
      "####################### ITER 2, STEP 2: ACTION #######################\n",
      ">>> Executing function bing_search ...\n",
      ">>> END \n",
      ">>> Executing function bing_search ...\n",
      ">>> END \n",
      "system: Execution Results:\n",
      "1. bing_search:\n",
      "    [EXECUTE STATUS]: SUCCESS\n",
      "    [EXECUTE RESULT]: [{'title': 'LeBron James Career Stats - NBA - ESPN', 'link': 'https://www.espn.com/nba/player/stats/_/id/1966/lebron-james', 'snippet': 'Draft Info. 2003: Rd 1, Pk 1 (CLE) Status. GTD. Experience. 20th Season. 2023-24 season stats. PTS. 25.5. 14th. REB. 7.2. 33rd. AST. 8.2. 6th. FG% 53.8. 22nd. Complete career NBA stats for the...'}, {'title': 'LeBron James Stats, Height, Weight, Position, Draft Status and more ...', 'link': 'https://www.basketball-reference.com/players/j/jamesle01.html', 'snippet': 'LeBron James has averaged at least 25 points, 5 rebounds and 5 assists in 15 different seasons. Can you name the 4 other players to do this more than 5 times?'}, {'title': 'LeBron James Career Stats (Per Game) | StatMuse', 'link': 'https://www.statmuse.com/nba/player/lebron-james-1780/career-stats', 'snippet': 'He has averaged 27.1 points, 7.5 rebounds and 7.4 assists in 1,492 regular-season games. He was selected to play in 19 All-Star games. He has won the Rookie of the Year award, 4 MVP awards, 4 Finals MVP awards and 4 NBA championships.'}]\n",
      "\n",
      "2. bing_search:\n",
      "    [EXECUTE STATUS]: SUCCESS\n",
      "    [EXECUTE RESULT]: [{'title': 'Stephen Curry Career Stats - NBA - ESPN', 'link': 'https://www.espn.com/nba/player/stats/_/id/3975/stephen-curry', 'snippet': '5.1. 37th. FG% 45.0. 101st. Complete career NBA stats for the Golden State Warriors Point Guard Stephen Curry on ESPN. Includes points, rebounds, and assists.'}, {'title': 'Stephen Curry Stats, Height, Weight, Position, Draft Status and more ...', 'link': 'https://www.basketball-reference.com/players/c/curryst01.html', 'snippet': 'SUMMARY. 2023-24. Career. G. 74. 956. PTS. 26.4. 24.8. TRB. 4.5. 4.7. AST. 5.1. 6.4. FG% 45.0. 47.3. FG3% 40.8.'}, {'title': 'Stephen Curry Career Stats (Per Game) | StatMuse', 'link': 'https://www.statmuse.com/nba/player/stephen-curry-787/career-stats', 'snippet': 'Stephen Curry has played 15 seasons for the Warriors. He has averaged 24.8 points, 6.4 assists and 4.7 rebounds in 954 regular-season games. He was selected to play in 9 All-Star games. He has won 2 MVP awards, 1 Finals MVP award and 4 NBA championships.'}]\n",
      "\n",
      "##################### ITER 3, STEP 1: REASONING ######################\n",
      "assistant: {\n",
      "    \"thought\": \"I found the results for both players. LeBron James has averaged 27.1 points during his career. On the other hand, Stephen Curry has averaged 24.8 points.\",\n",
      "    \"speak\": \"LeBron James has a career average of 27.1 points per game, while Stephen Curry's career average is 24.8 points per game. Therefore, LeBron James has a higher career average than Stephen Curry.\",\n",
      "    \"function\": []\n",
      "}\n"
     ]
    },
    {
     "data": {
      "text/plain": [
       "{'id': '5fce2d0813aa48c1ae720957c957674a',\n",
       " 'timestamp': '2024-04-18 16:03:40',\n",
       " 'name': 'assistant',\n",
       " 'content': {'thought': 'I found the results for both players. LeBron James has averaged 27.1 points during his career. On the other hand, Stephen Curry has averaged 24.8 points.',\n",
       "  'speak': \"LeBron James has a career average of 27.1 points per game, while Stephen Curry's career average is 24.8 points per game. Therefore, LeBron James has a higher career average than Stephen Curry.\",\n",
       "  'function': []},\n",
       " 'role': 'assistant',\n",
       " 'url': None}"
      ]
     },
     "execution_count": 6,
     "metadata": {},
     "output_type": "execute_result"
    }
   ],
   "source": [
    "agent(msg)"
   ]
  },
  {
   "cell_type": "markdown",
   "metadata": {},
   "source": [
    "Great, the statistics are correct. let's proceed to  enable the agent write file on your machine, you can write you own service following the protocal:"
   ]
  },
  {
   "cell_type": "markdown",
   "metadata": {},
   "source": [
    "Run `!pip install pypandoc` to install required library."
   ]
  },
  {
   "cell_type": "code",
   "execution_count": 7,
   "metadata": {},
   "outputs": [],
   "source": [
    "from agentscope.service import ServiceResponse, ServiceExecStatus, retrieval\n",
    "def write_md_file(latex_str:str, file_name:str) -> ServiceResponse:\n",
    "    \"\"\"\n",
    "    Save a string in latex format to a Markdown file with the given file name.\n",
    "    Args:\n",
    "        latex_str (str): the string in latex format\n",
    "        file_name (str): the name of the file to be created\n",
    "    \"\"\"\n",
    "    try:\n",
    "        import pypandoc as pdc\n",
    "        pdc.convert_text(latex_str, 'md', \n",
    "                                     format='latex', \n",
    "                                     outputfile=file_name)\n",
    "        output = f\"Markdown file {file_name} has been created.\"\n",
    "        status = ServiceExecStatus.SUCCESS\n",
    "    except Exception as e:\n",
    "        output = f\"Error: {e}\"\n",
    "        status = ServiceExecStatus.ERROR\n",
    "    return ServiceResponse(status, output)   \n",
    "    "
   ]
  },
  {
   "cell_type": "markdown",
   "metadata": {},
   "source": [
    "Note that it's important to provide clear documentation that explains your code, allowing the agent to understand how to effectively utilize your tool.\""
   ]
  },
  {
   "cell_type": "markdown",
   "metadata": {},
   "source": [
    "The ultimate question is \n",
    "> What is the kinetic energy of LeBron Jamees if he were running at the same speed Usain Bolt\"achieved when setting the 100m world record? Write me the full reasoning and solution in Markdown format.\""
   ]
  },
  {
   "cell_type": "code",
   "execution_count": 8,
   "metadata": {},
   "outputs": [],
   "source": [
    "QUESTION = (\"What is the kinetic energy of LeBron James\"\n",
    "            \"if he were running at the same speed Usain Bolt\" \n",
    "            \"achieved when setting the 100m world record?\"\n",
    "            \"Write me the full reasoning and solution in Markdown format.\")"
   ]
  },
  {
   "cell_type": "markdown",
   "metadata": {},
   "source": [
    "we create an ReAct Agent and power it with necessary tools"
   ]
  },
  {
   "cell_type": "code",
   "execution_count": 9,
   "metadata": {},
   "outputs": [],
   "source": [
    "from agentscope.service import execute_python_code\n",
    "tools = [\n",
    "    ServiceFactory.get(bing_search, api_key=SEARCH_ENGINE_API, num_results=3),\n",
    "    ServiceFactory.get(execute_python_code),\n",
    "    ServiceFactory.get(write_md_file)\n",
    "]\n",
    "agent = ReActAgent(\n",
    "    name=\"assistant\",\n",
    "    model_config_name=\"gpt-4\",\n",
    "    tools=tools,\n",
    "    sys_prompt=\"You are a helpful assistant.\",\n",
    "    verbose=True,\n",
    ")\n",
    "msg = Msg(\n",
    "    role=\"user\",\n",
    "    name=\"user\",\n",
    "    content=QUESTION\n",
    ")"
   ]
  },
  {
   "cell_type": "code",
   "execution_count": 10,
   "metadata": {},
   "outputs": [
    {
     "data": {
      "text/plain": [
       "{'id': '3e9a5a6830724aa2a34302edb8559d01',\n",
       " 'timestamp': '2024-04-11 23:24:57',\n",
       " 'name': 'assistant',\n",
       " 'content': {'thought': 'The Markdown file with the full reasoning and calculation has been successfully created.',\n",
       "  'speak': \"The full reasoning and solution have been written into a Markdown file named 'kinetic_energy.md'.\",\n",
       "  'function': []},\n",
       " 'role': 'assistant',\n",
       " 'url': None}"
      ]
     },
     "execution_count": 10,
     "metadata": {},
     "output_type": "execute_result"
    }
   ],
   "source": [
    "agent(msg)"
   ]
  },
  {
   "cell_type": "markdown",
   "metadata": {},
   "source": [
    "Good it seems that the agent successfuly sovle the problem and output it as file *files/kinetic_energy.md*. You can check its solution yourself. "
   ]
  },
  {
   "cell_type": "markdown",
   "metadata": {},
   "source": [
    "---"
   ]
  }
 ],
 "metadata": {
  "kernelspec": {
   "display_name": "agentscope",
   "language": "python",
   "name": "python3"
  },
  "language_info": {
   "codemirror_mode": {
    "name": "ipython",
    "version": 3
   },
   "file_extension": ".py",
   "mimetype": "text/x-python",
   "name": "python",
   "nbconvert_exporter": "python",
   "pygments_lexer": "ipython3",
   "version": "3.9.19"
  }
 },
 "nbformat": 4,
 "nbformat_minor": 2
}
