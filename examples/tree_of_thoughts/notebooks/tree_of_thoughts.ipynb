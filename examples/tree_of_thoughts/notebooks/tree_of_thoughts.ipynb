{
 "cells": [
  {
   "cell_type": "markdown",
   "metadata": {},
   "source": [
    "# Tree of Thoughts\n"
   ]
  },
  {
   "cell_type": "markdown",
   "metadata": {},
   "source": [
    "The Tree of Thoughts (ToT) algorithm combines Large Language Models (LLMs) and heuristic search , as presented in a [paper](https://arxiv.org/pdf/2305.10601.pdf) by Princeton University and Google DeepMind. "
   ]
  },
  {
   "cell_type": "markdown",
   "metadata": {},
   "source": [
    "The Tree of Thoughts (ToT) algorithm aims to address limitations of the Chain of Thoughts (CoT) approach, ToT enables LLMs to evaluate their thinking at each stage and abandon inefficient approaches, exploring alternative methods as shown in the figure below:"
   ]
  },
  {
   "cell_type": "markdown",
   "metadata": {},
   "source": [
    "![Image adopted from the original paper](../figs/TOT.png)"
   ]
  },
  {
   "cell_type": "markdown",
   "metadata": {},
   "source": [
    "In this example we will implement the ToT algorithm to solve a classical problem:  \n",
    "> Given an input of 4 numbers. How to use these 4 numbers and basic arithmetic operations (+-*/) to obtain 24 in 1 equation"
   ]
  },
  {
   "cell_type": "markdown",
   "metadata": {},
   "source": [
    "A set of 24 Game Puzzles can be downloaded from [here](https://github.com/princeton-nlp/tree-of-thought-llm/blob/master/src/tot/data/24/24.csv)"
   ]
  },
  {
   "cell_type": "code",
   "execution_count": 1,
   "metadata": {},
   "outputs": [
    {
     "data": {
      "text/html": [
       "<div>\n",
       "<style scoped>\n",
       "    .dataframe tbody tr th:only-of-type {\n",
       "        vertical-align: middle;\n",
       "    }\n",
       "\n",
       "    .dataframe tbody tr th {\n",
       "        vertical-align: top;\n",
       "    }\n",
       "\n",
       "    .dataframe thead th {\n",
       "        text-align: right;\n",
       "    }\n",
       "</style>\n",
       "<table border=\"1\" class=\"dataframe\">\n",
       "  <thead>\n",
       "    <tr style=\"text-align: right;\">\n",
       "      <th></th>\n",
       "      <th>Rank</th>\n",
       "      <th>Puzzles</th>\n",
       "      <th>AMT (s)</th>\n",
       "      <th>Solved rate</th>\n",
       "      <th>1-sigma Mean (s)</th>\n",
       "      <th>1-sigma STD (s)</th>\n",
       "    </tr>\n",
       "  </thead>\n",
       "  <tbody>\n",
       "    <tr>\n",
       "      <th>8</th>\n",
       "      <td>9</td>\n",
       "      <td>2 2 10 10</td>\n",
       "      <td>4.85</td>\n",
       "      <td>98.20%</td>\n",
       "      <td>5.13</td>\n",
       "      <td>1.63</td>\n",
       "    </tr>\n",
       "    <tr>\n",
       "      <th>208</th>\n",
       "      <td>209</td>\n",
       "      <td>5 5 11 13</td>\n",
       "      <td>6.15</td>\n",
       "      <td>96.10%</td>\n",
       "      <td>6.75</td>\n",
       "      <td>2.52</td>\n",
       "    </tr>\n",
       "    <tr>\n",
       "      <th>543</th>\n",
       "      <td>544</td>\n",
       "      <td>2 2 7 8</td>\n",
       "      <td>7.53</td>\n",
       "      <td>93.70%</td>\n",
       "      <td>7.88</td>\n",
       "      <td>2.98</td>\n",
       "    </tr>\n",
       "    <tr>\n",
       "      <th>437</th>\n",
       "      <td>438</td>\n",
       "      <td>1 2 3 5</td>\n",
       "      <td>7.10</td>\n",
       "      <td>95.40%</td>\n",
       "      <td>7.39</td>\n",
       "      <td>2.38</td>\n",
       "    </tr>\n",
       "    <tr>\n",
       "      <th>99</th>\n",
       "      <td>100</td>\n",
       "      <td>5 5 7 7</td>\n",
       "      <td>5.65</td>\n",
       "      <td>97.80%</td>\n",
       "      <td>5.97</td>\n",
       "      <td>1.91</td>\n",
       "    </tr>\n",
       "    <tr>\n",
       "      <th>220</th>\n",
       "      <td>221</td>\n",
       "      <td>1 4 6 8</td>\n",
       "      <td>6.21</td>\n",
       "      <td>94.40%</td>\n",
       "      <td>6.57</td>\n",
       "      <td>2.52</td>\n",
       "    </tr>\n",
       "    <tr>\n",
       "      <th>182</th>\n",
       "      <td>183</td>\n",
       "      <td>3 9 9 9</td>\n",
       "      <td>6.04</td>\n",
       "      <td>97.60%</td>\n",
       "      <td>6.47</td>\n",
       "      <td>2.16</td>\n",
       "    </tr>\n",
       "    <tr>\n",
       "      <th>541</th>\n",
       "      <td>542</td>\n",
       "      <td>1 2 2 4</td>\n",
       "      <td>7.52</td>\n",
       "      <td>95.50%</td>\n",
       "      <td>7.83</td>\n",
       "      <td>2.44</td>\n",
       "    </tr>\n",
       "    <tr>\n",
       "      <th>1054</th>\n",
       "      <td>1055</td>\n",
       "      <td>4 4 6 9</td>\n",
       "      <td>12.24</td>\n",
       "      <td>77.40%</td>\n",
       "      <td>10.48</td>\n",
       "      <td>5.57</td>\n",
       "    </tr>\n",
       "    <tr>\n",
       "      <th>1148</th>\n",
       "      <td>1149</td>\n",
       "      <td>3 3 9 10</td>\n",
       "      <td>14.94</td>\n",
       "      <td>78.10%</td>\n",
       "      <td>13.60</td>\n",
       "      <td>6.10</td>\n",
       "    </tr>\n",
       "  </tbody>\n",
       "</table>\n",
       "</div>"
      ],
      "text/plain": [
       "      Rank    Puzzles  AMT (s) Solved rate  1-sigma Mean (s)  1-sigma STD (s)\n",
       "8        9  2 2 10 10     4.85      98.20%              5.13             1.63\n",
       "208    209  5 5 11 13     6.15      96.10%              6.75             2.52\n",
       "543    544    2 2 7 8     7.53      93.70%              7.88             2.98\n",
       "437    438    1 2 3 5     7.10      95.40%              7.39             2.38\n",
       "99     100    5 5 7 7     5.65      97.80%              5.97             1.91\n",
       "220    221    1 4 6 8     6.21      94.40%              6.57             2.52\n",
       "182    183    3 9 9 9     6.04      97.60%              6.47             2.16\n",
       "541    542    1 2 2 4     7.52      95.50%              7.83             2.44\n",
       "1054  1055    4 4 6 9    12.24      77.40%             10.48             5.57\n",
       "1148  1149   3 3 9 10    14.94      78.10%             13.60             6.10"
      ]
     },
     "execution_count": 1,
     "metadata": {},
     "output_type": "execute_result"
    }
   ],
   "source": [
    "import pandas as pd\n",
    "puzzles_df = pd.read_csv('puzzles/24.csv')\n",
    "puzzles_df.sample(10)"
   ]
  },
  {
   "cell_type": "markdown",
   "metadata": {},
   "source": [
    "LLMs does not perform well on this task.\n",
    "For example, given 3 4 4 7.\n",
    "Human being can easily find the solution as ((7-4)+3)*4 = 24. Let's test whether advanced LLM can solve this puzzle."
   ]
  },
  {
   "cell_type": "code",
   "execution_count": 5,
   "metadata": {},
   "outputs": [
    {
     "data": {
      "text/plain": [
       "[]"
      ]
     },
     "execution_count": 5,
     "metadata": {},
     "output_type": "execute_result"
    }
   ],
   "source": [
    "from agentscope.agents import DialogAgent\n",
    "import agentscope\n",
    "MODEL_CONFIGURATION = {\n",
    "    \"config_name\": \"gpt-4\",\n",
    "    \"model_type\": \"openai_chat\",\n",
    "    \"model_name\": \"gpt-4\",\n",
    "    \"api_key\": \"YOUR_API_KEY\",\n",
    "    \"generate_args\": {\n",
    "        \"temperature\": 0.5\n",
    "    }}\n",
    "agentscope.init(model_configs=MODEL_CONFIGURATION)"
   ]
  },
  {
   "cell_type": "code",
   "execution_count": 7,
   "metadata": {},
   "outputs": [
    {
     "name": "stdout",
     "output_type": "stream",
     "text": [
      "An equation to obtain 24 using the numbers 3, 4, 4, and 7 could be:\n",
      "\n",
      "4 * 4 * 3 - 7 = 24\n"
     ]
    }
   ],
   "source": [
    "PUZZLE = \"Input number is 3 4 4 7\"\n",
    "QUESTION_PROMPT = f\"\"\"\n",
    "    Given an input of 4 numbers\n",
    "    you need to use these 4 numbers and basic arithmetic operations (+-*/) to obtain 24 in 1 equation\n",
    "\"\"\"\n",
    "agent = DialogAgent(\n",
    "    name=\"assistant\",\n",
    "    model_config_name=\"gpt-4\",\n",
    "    sys_prompt=QUESTION_PROMPT,\n",
    ")\n",
    "from agentscope.message import Msg \n",
    "question = Msg(name=\"user\", content=PUZZLE)\n",
    "res = agent(question)\n",
    "print(res.content)"
   ]
  },
  {
   "cell_type": "markdown",
   "metadata": {},
   "source": [
    "This is clearly not correct. Now let's implemet a ToT algorithm to solve this."
   ]
  },
  {
   "cell_type": "code",
   "execution_count": 8,
   "metadata": {},
   "outputs": [],
   "source": [
    "THINKER_PROMPT =(\n",
    "\"You're an TreeofThoughts, an superintelligent AI model devoted to helping Humans by any means necessary. \"\n",
    "\"You're purpose is to generate a series of solutions to comply with the user's instructions, you must generate solutions on the basis of determining the most reliable solution in the shortest amount of time, while taking rejected solutions into account and learning from them.\"\n",
    "\"  Considering the following question: \"\n",
    "\"{}\" \n",
    "\"Thinking Step by Steps to give your choice on possible next step to solve the problem.\"\n",
    "\"You can put any arithmetic operations between any two numbers, the intermediate results can also be negative or fractions.\"\n",
    "\"Try to think of all possible next steps to solve the problem, but choose the most reliable solution in the shortest amount of time.\"\n",
    "\" For example, if input is 2 8 8 14, possible next stepes could be: \"\n",
    "\" 2 + 8 = 10 (left: 10 14) \"\n",
    "\" 8 / 2 = 4 (left: 8 14) \"\n",
    "\" 14 + 2 = 16 (left: 8 8) \"\n",
    "\" 2 * 8 = 16 (left: 8 14 ) \"\n",
    "\" 8 - 2 = 6 (left: 8 14) \"\n",
    "\" 14 - 8 = 6 (left: 2 8) \"\n",
    "\" 14 /  2 = 7 (left: 8 8) \"\n",
    "\" 14 - 2 = 12 (left: 8 8)\" \n",
    "\" 2 - 8 = -6 (left: 8 14) \"\n",
    "\" 8 - 14 = -6 (left: 2 8) \"\n",
    "\" and so on. \"\n",
    "\"Please try to think of all possible next steps to solve the problem and choose the most reliable solution in the shortest amount of time.\"\n",
    "\" Response in the following format that can be loaded by python json.loads()\" \n",
    "\"{{\\n\"\n",
    "        '    \"state\": possible next steps\\n in the format of \"number1 operation number2 = result (left number to use)\"\\n'\n",
    "        '    \"thought\": \"thought summary to say to others\"\\n'\n",
    "        \"}}\"\n",
    ")"
   ]
  },
  {
   "cell_type": "code",
   "execution_count": 9,
   "metadata": {},
   "outputs": [],
   "source": [
    "EVALUATOR_PROMPT = (\n",
    "    \"Consider the following question: {}.\"\n",
    "    \"To achieve the goal, pessimistically value the context of the past solutions and more importantly the latest generated solution you had AS A FLOAT BETWEEN 0 AND 1\\n.\"\n",
    "    \"If the solutions is not directly concretely making fast progress in achieving the goal, give it a lower score.\"\n",
    "    \"Evaluate all solutions AS A FLOAT BETWEEN 0 and 1:\\n,  DO NOT RETURN ANYTHING ELSE.\"\n",
    "    \"Response in the following format that can be loaded by python json.loads()\"\n",
    "\"{{\\n\"\n",
    "        '\"score\": The score of the solution'\n",
    "\"}}\"\n",
    ")\n"
   ]
  },
  {
   "cell_type": "code",
   "execution_count": 10,
   "metadata": {},
   "outputs": [],
   "source": [
    "from agentscope.agents import DictDialogAgent\n",
    "thinker = DictDialogAgent(\n",
    "    name=\"thinker\",\n",
    "    model_config_name=\"gpt-4\",\n",
    "    sys_prompt=THINKER_PROMPT.format(QUESTION_PROMPT),\n",
    ")\n",
    "evaluator = DictDialogAgent(\n",
    "    name=\"evaluator\",\n",
    "    model_config_name=\"gpt-4\",\n",
    "    sys_prompt=EVALUATOR_PROMPT.format(QUESTION_PROMPT),\n",
    ")"
   ]
  },
  {
   "cell_type": "markdown",
   "metadata": {},
   "source": [
    "- The thinker agent generates possible new moves.\"\n",
    "- The evaluator agent assesses each move and assigns it a score based on heuristics.\"\n",
    "- We also require a tree structure to store this information and consistently select the nodes with the highest scores for further exploration.\""
   ]
  },
  {
   "cell_type": "code",
   "execution_count": 11,
   "metadata": {},
   "outputs": [],
   "source": [
    "import heapq\n",
    "class Node:\n",
    "    def __init__(self, state, heuristic_value=None, parent=None):\n",
    "        self.state = state\n",
    "        self.parent = parent\n",
    "        self.heuristic_value = heuristic_value\n",
    "\n",
    "    def __lt__(self, other):\n",
    "        return self.heuristic_value > other.heuristic_value\n"
   ]
  },
  {
   "cell_type": "code",
   "execution_count": 12,
   "metadata": {},
   "outputs": [],
   "source": [
    "def generate_possible_states(current_state):\n",
    "    prompt = \"The current state is: {}, what is the next step?\".format(current_state)\n",
    "    msg = Msg(name=\"user\", content=prompt)\n",
    "    res = thinker(msg)\n",
    "    states = res.content[\"state\"]\n",
    "    print('Exploring states:', states)\n",
    "    return states"
   ]
  },
  {
   "cell_type": "code",
   "execution_count": 13,
   "metadata": {},
   "outputs": [],
   "source": [
    "def evaluate_state(state):\n",
    "    prompt = \"Current state is {}, evaluate the state.\".format(state)\n",
    "    msg = Msg(name=\"thinker\", content=prompt)\n",
    "    res = evaluator(msg)\n",
    "    print('Evaluating state:', state, res.content[\"score\"])\n",
    "    return res.content[\"score\"]"
   ]
  },
  {
   "cell_type": "code",
   "execution_count": 14,
   "metadata": {},
   "outputs": [],
   "source": [
    "import re\n",
    "def goal_test(state):\n",
    "    pattern = r'=\\s*([+-]?\\d+(?:\\.\\d+)?)(?=[^\\(]*\\()'\n",
    "    res = re.findall(pattern, state)\n",
    "    res = float(res[0])\n",
    "    print('Goal test:', res)\n",
    "    return res == 24."
   ]
  },
  {
   "cell_type": "code",
   "execution_count": 15,
   "metadata": {},
   "outputs": [],
   "source": [
    "def heuristic_search(initial_state):\n",
    "    open_set = []\n",
    "    visited = set()\n",
    "    initial_states = generate_possible_states(initial_state)\n",
    "    for state in initial_states:\n",
    "        heuristic_value = evaluate_state(state)\n",
    "        node = Node(state, heuristic_value)\n",
    "        heapq.heappush(open_set, node)\n",
    "    \n",
    "    while open_set:\n",
    "        current_node = heapq.heappop(open_set)\n",
    "        current_state = current_node.state\n",
    "\n",
    "        if goal_test(current_state):\n",
    "            return reconstruct_path(current_node)\n",
    "\n",
    "        visited.add(current_state)\n",
    "\n",
    "        for next_state in generate_possible_states(current_state):\n",
    "            if next_state not in visited:\n",
    "                heuristic_value = evaluate_state(next_state)\n",
    "                next_node = Node(next_state, heuristic_value, current_node)\n",
    "                heapq.heappush(open_set, next_node)\n",
    "\n",
    "    return None\n",
    "\n",
    "def reconstruct_path(node):\n",
    "    path = []\n",
    "    while node:\n",
    "        path.append(node.state)\n",
    "        node = node.parent\n",
    "    return path[::-1]"
   ]
  },
  {
   "cell_type": "code",
   "execution_count": 16,
   "metadata": {},
   "outputs": [
    {
     "name": "stdout",
     "output_type": "stream",
     "text": [
      "Exploring states: ['3 + 4 = 7 (left: 4 7)', '4 + 4 = 8 (left: 3 7)', '7 + 3 = 10 (left: 4 4)', '3 * 4 = 12 (left: 4 7)', '4 * 4 = 16 (left: 3 7)', '7 * 3 = 21 (left: 4 4)', '3 - 4 = -1 (left: 4 7)', '4 - 4 = 0 (left: 3 7)', '7 - 3 = 4 (left: 4 4)', '3 / 4 = 0.75 (left: 4 7)', '4 / 4 = 1 (left: 3 7)', '7 / 3 = 2.3333 (left: 4 4)']\n",
      "Evaluating state: 3 + 4 = 7 (left: 4 7) 0.1\n",
      "Evaluating state: 4 + 4 = 8 (left: 3 7) 0.15\n",
      "Evaluating state: 7 + 3 = 10 (left: 4 4) 0.2\n",
      "Evaluating state: 3 * 4 = 12 (left: 4 7) 0.3\n",
      "Evaluating state: 4 * 4 = 16 (left: 3 7) 0.35\n",
      "Evaluating state: 7 * 3 = 21 (left: 4 4) 0.4\n",
      "Evaluating state: 3 - 4 = -1 (left: 4 7) 0.05\n",
      "Evaluating state: 4 - 4 = 0 (left: 3 7) 0\n",
      "Evaluating state: 7 - 3 = 4 (left: 4 4) 0.1\n",
      "Evaluating state: 3 / 4 = 0.75 (left: 4 7) 0.05\n",
      "Evaluating state: 4 / 4 = 1 (left: 3 7) 0.05\n",
      "Evaluating state: 7 / 3 = 2.3333 (left: 4 4) 0.1\n",
      "Goal test: 21.0\n"
     ]
    }
   ],
   "source": [
    "initial_state = \"3 4 4 7\"\n",
    "heuristic_search(initial_state)"
   ]
  },
  {
   "cell_type": "markdown",
   "metadata": {},
   "source": [
    "---"
   ]
  }
 ],
 "metadata": {
  "kernelspec": {
   "display_name": "agentscope",
   "language": "python",
   "name": "python3"
  },
  "language_info": {
   "codemirror_mode": {
    "name": "ipython",
    "version": 3
   },
   "file_extension": ".py",
   "mimetype": "text/x-python",
   "name": "python",
   "nbconvert_exporter": "python",
   "pygments_lexer": "ipython3",
   "version": "3.9.19"
  }
 },
 "nbformat": 4,
 "nbformat_minor": 2
}
