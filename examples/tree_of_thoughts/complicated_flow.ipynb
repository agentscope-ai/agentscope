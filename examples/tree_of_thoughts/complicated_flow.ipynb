{
 "cells": [
  {
   "cell_type": "markdown",
   "metadata": {},
   "source": [
    "# Build Complicated WorkFlow - Reflection"
   ]
  },
  {
   "cell_type": "markdown",
   "metadata": {},
   "source": [
    "Reflection is a prompting strategy used to improve the quality and success rate of agents and similar AI systems. In this exampple, we will build a complex workflow that includes writer agents and critic agents. The writing agents will generate draft solutions, while the critic agent will check mistakes and provide the feedback. This critic-revision process can happen in parallel and in the end one picker agent is employed to pick the best draft."
   ]
  },
  {
   "cell_type": "markdown",
   "metadata": {},
   "source": [
    "![FLOW Diagrm](figs/mermaid-diagram-2024-04-19-021456.png)"
   ]
  },
  {
   "cell_type": "markdown",
   "metadata": {},
   "source": [
    "Let's first specify the model configuration"
   ]
  },
  {
   "cell_type": "code",
   "execution_count": 3,
   "metadata": {},
   "outputs": [],
   "source": [
    "MODEL_CONFIGURATION = {\n",
    "    \"config_name\": \"gpt-3.5-turbo\",\n",
    "    \"model_type\": \"openai_chat\",\n",
    "    \"model_name\": \"gpt-3.5-turbo\",\n",
    "    \"api_key\": \"YOUR_API_KEY\",\n",
    "    \"generate_args\": {\n",
    "        \"temperature\": 0.5\n",
    "    }}"
   ]
  },
  {
   "cell_type": "markdown",
   "metadata": {},
   "source": [
    "Let's at first try can a single agent sovle this?"
   ]
  },
  {
   "cell_type": "code",
   "execution_count": 4,
   "metadata": {},
   "outputs": [
    {
     "name": "stdout",
     "output_type": "stream",
     "text": [
      "Beneath the sky of endless blue,\n",
      "The ocean's waves, a timeless view.\n",
      "Whispers of the tide's sweet song,\n",
      "Echoing where the seabirds long.\n",
      "Majestic depths, a mystery untold,\n",
      "Where secrets lie in the waters cold.\n",
      "Sands of time, shifting with the flow,\n",
      "In the ocean's embrace, all hearts aglow.\n",
      "\n",
      "Critics: The poem is beautifully written and captures the essence of the ocean well. To improve, you could consider incorporating more sensory details to evoke a stronger emotional response in the reader. Also, try to vary the rhyme scheme and meter to create a more dynamic flow in the poem.\n"
     ]
    }
   ],
   "source": [
    "from agentscope.agents import DialogAgent\n",
    "import agentscope\n",
    "from agentscope.message import Msg\n",
    "agentscope.init(model_configs=MODEL_CONFIGURATION)\n",
    "agent = DialogAgent(\n",
    "    name=\"writer\",\n",
    "    model_config_name=\"gpt-3.5-turbo\",\n",
    "    sys_prompt=\"You are an experience poet. You will receive some critics, try to improve your poem.\",\n",
    ")\n",
    "INITIAL_PROMPT = \"\"\"\n",
    "   Write me a 10-line short poem about the ocean.\n",
    "\"\"\"\n",
    "msg = Msg(name=\"user\", \n",
    "          role=\"user\", \n",
    "          content=INITIAL_PROMPT)\n",
    "res = agent(msg)\n",
    "print(res.content)"
   ]
  },
  {
   "cell_type": "markdown",
   "metadata": {},
   "source": [
    "We can prompt the critic to have some preference."
   ]
  },
  {
   "cell_type": "code",
   "execution_count": 5,
   "metadata": {},
   "outputs": [],
   "source": [
    "CRITIC_PROMPT = (\n",
    "\"You are an poetry critic.\"\n",
    "\"You appreciate the style of William Shakespeare the most\"\n",
    "\"You will receive poem from a writer\"\n",
    "\"Reflect and critique the poem. Be severe to maximize improvement.\")\n",
    "critic = DialogAgent(\n",
    "    name=\"critic\",\n",
    "    model_config_name=\"gpt-3.5-turbo\",\n",
    "    sys_prompt=CRITIC_PROMPT,\n",
    ")"
   ]
  },
  {
   "cell_type": "code",
   "execution_count": 6,
   "metadata": {},
   "outputs": [
    {
     "name": "stdout",
     "output_type": "stream",
     "text": [
      "Your poem captures the serene beauty of the ocean with vivid imagery and a soothing rhythm. However, it lacks the depth and complexity that would truly make it stand out. To enhance your work, try to delve deeper into the emotions and themes you wish to convey. Consider experimenting with different poetic devices such as metaphors, similes, and alliteration to add layers of meaning to your verses. Additionally, pay attention to the structure and form of your poem to create a more impactful and memorable piece. Keep refining your craft to reach the level of mastery seen in the works of Shakespeare.\n"
     ]
    }
   ],
   "source": [
    "feedback = critic(res)\n",
    "print(feedback.content)"
   ]
  },
  {
   "cell_type": "markdown",
   "metadata": {},
   "source": [
    "The critic is being severe indeed. Let's construct the workflow."
   ]
  },
  {
   "cell_type": "code",
   "execution_count": 10,
   "metadata": {},
   "outputs": [],
   "source": [
    "from ast import parse\n",
    "import json\n",
    "from workflow import SequentialWorkFlow\n",
    "critic_revision_workflow = SequentialWorkFlow()\n",
    "critic_revision_workflow.register_contexts({'max_retries': 1, \n",
    "                                            'is_solved': False, \n",
    "                                            'retry_count': 0, \n",
    "                                            'history': []})\n",
    "writer = DialogAgent(\n",
    "    name=\"writer\",\n",
    "    model_config_name=\"gpt-3.5-turbo\",\n",
    "    sys_prompt=\"You are a helpful assistant.\",\n",
    ")\n",
    "critic = DialogAgent(\n",
    "    name=\"critic\",\n",
    "    model_config_name=\"gpt-3.5-turbo\",\n",
    "    sys_prompt=CRITIC_PROMPT,\n",
    ")\n",
    "critic_revision_workflow.add_node(writer, \"writer\")\n",
    "critic_revision_workflow.add_node(critic, \"critic\")\n",
    "critic_revision_workflow.add_node(lambda x: print(x.content), \"printer\")\n",
    "\n",
    "def store_draft_callback(msg, workflow, *args, **kwargs):\n",
    "    workflow.contexts['history'].append(msg.content)\n",
    "    return msg, 'critic'\n",
    "\n",
    "def critic_revision_callback(msg, workflow, *args, **kwargs):\n",
    "    max_count = workflow.contexts['max_retries']\n",
    "    retry_count = workflow.contexts['retry_count']\n",
    "    print(f\"Retry count: {retry_count}/{max_count}\")\n",
    "    if retry_count >= max_count:\n",
    "        last_draft = workflow.contexts['history'][-1]\n",
    "        return Msg(name='writer', content=last_draft), 'EXIT'\n",
    "    else:\n",
    "        workflow.contexts['retry_count'] += 1\n",
    "        return Msg(name='crtic', content=msg.content), 'writer'\n",
    "    \n",
    "critic_revision_workflow.add_edge('writer', store_draft_callback)\n",
    "critic_revision_workflow.add_edge('critic', critic_revision_callback)\n",
    "critic_revision_workflow.set_entry_node('writer')\n",
    "critic_revision_workflow.set_exit_node('printer')"
   ]
  },
  {
   "cell_type": "code",
   "execution_count": 11,
   "metadata": {},
   "outputs": [
    {
     "name": "stdout",
     "output_type": "stream",
     "text": [
      "Retry count: 0/1\n",
      "Retry count: 1/1\n"
     ]
    },
    {
     "data": {
      "text/plain": [
       "{'id': '4c8f3a9e970b45bb9acd163111d52158',\n",
       " 'timestamp': '2024-04-19 03:53:45',\n",
       " 'name': 'writer',\n",
       " 'content': \"Here is an improved version of the poem:\\n\\nBeneath the azure sky's expanse,\\nThe ocean's song, a hypnotic dance.\\nWhispers of waves, a soothing lullaby,\\nAs sunlight dances on waves high.\\n\\nMajestic tides, a timeless flow,\\nRevealing secrets of long ago.\\nIn depths where mysteries lie unseen,\\nA world of wonders, tranquil and serene.\\n\\nWithin the ocean's vast embrace,\\nA symphony of beauty and grace.\",\n",
       " 'role': 'assistant',\n",
       " 'url': None}"
      ]
     },
     "execution_count": 11,
     "metadata": {},
     "output_type": "execute_result"
    }
   ],
   "source": [
    "msg = Msg(name=\"user\",\n",
    "            role=\"user\",\n",
    "            content=INITIAL_PROMPT)\n",
    "critic_revision_workflow(msg)"
   ]
  },
  {
   "cell_type": "code",
   "execution_count": 12,
   "metadata": {},
   "outputs": [
    {
     "name": "stdout",
     "output_type": "stream",
     "text": [
      "####################\n",
      "Beneath the sky so vast and blue,\n",
      "The ocean dances in shades of hue.\n",
      "Whispers of waves in rhythmic motion,\n",
      "A symphony of nature's devotion.\n",
      "\n",
      "Majestic tides ebb and flow,\n",
      "Secrets hidden far below.\n",
      "Mysteries in depths unknown,\n",
      "A world of wonder to be shown.\n",
      "\n",
      "In the ocean's embrace, we find peace,\n",
      "A timeless beauty that will never cease.\n",
      "####################\n",
      "↓\n",
      "####################\n",
      "Here is an improved version of the poem:\n",
      "\n",
      "Beneath the azure sky's expanse,\n",
      "The ocean's song, a hypnotic dance.\n",
      "Whispers of waves, a soothing lullaby,\n",
      "As sunlight dances on waves high.\n",
      "\n",
      "Majestic tides, a timeless flow,\n",
      "Revealing secrets of long ago.\n",
      "In depths where mysteries lie unseen,\n",
      "A world of wonders, tranquil and serene.\n",
      "\n",
      "Within the ocean's vast embrace,\n",
      "A symphony of beauty and grace.\n",
      "####################\n"
     ]
    }
   ],
   "source": [
    "for i,draft in enumerate(critic_revision_workflow.contexts['history']):\n",
    "    print(\"#\"*20)\n",
    "    print(draft)\n",
    "    print(\"#\"*20)\n",
    "    print(\"\\u2193\") if i < len(critic_revision_workflow.contexts['history'])-1 else None"
   ]
  },
  {
   "cell_type": "markdown",
   "metadata": {},
   "source": [
    "Not bad. Now, let's make it parallel."
   ]
  },
  {
   "cell_type": "code",
   "execution_count": 38,
   "metadata": {},
   "outputs": [],
   "source": [
    "workflows = []\n",
    "poets_names = [\"Emily Dickinson\", \"Robert Frost\", \"William Shakespeare\"]\n",
    "for i in range(3):\n",
    "    CRITIC_PROMPT = (\n",
    "    \"You are an poetry critic.\"\n",
    "    f\"You appreciate the style of {poets_names[i]} the most\"\n",
    "    \"You will receive poem about ocean from a writer\"\n",
    "    \"Reflect and critique the poem. Be severe to maximize improvement.\")\n",
    "    critic_revision_workflow = SequentialWorkFlow()\n",
    "    critic_revision_workflow.register_contexts({'max_retries': 1, \n",
    "                                                'is_solved': False, \n",
    "                                                'retry_count': 0, \n",
    "                                                'history': []})\n",
    "    writer = DialogAgent(\n",
    "        name=\"writer\",\n",
    "        model_config_name=\"gpt-3.5-turbo\",\n",
    "        sys_prompt=\"You are poet. You will receive some critics, try to improve your poem.\",\n",
    "    )\n",
    "    critic = DialogAgent(\n",
    "        name=\"critic\",\n",
    "        model_config_name=\"gpt-3.5-turbo\",\n",
    "        sys_prompt=CRITIC_PROMPT,\n",
    "    )\n",
    "    critic_revision_workflow.add_node(writer, \"writer\")\n",
    "    critic_revision_workflow.add_node(critic, \"critic\")\n",
    "    critic_revision_workflow.add_node(lambda x: print(x.content), \"printer\")\n",
    "    critic_revision_workflow.add_edge('writer', store_draft_callback)\n",
    "    critic_revision_workflow.add_edge('critic', critic_revision_callback)\n",
    "    critic_revision_workflow.set_entry_node('writer')\n",
    "    critic_revision_workflow.set_exit_node('printer')\n",
    "    workflows.append(critic_revision_workflow)"
   ]
  },
  {
   "cell_type": "code",
   "execution_count": 39,
   "metadata": {},
   "outputs": [],
   "source": [
    "from workflow import ParallelWorkFlow\n",
    "def aggregate_fn(results):\n",
    "    PROMPT = f\"Flowing are the drafts\"\n",
    "    for i, result in enumerate(results):\n",
    "        PROMPT += f\"\\n\\nDraft {i+1}: {result}\"\n",
    "    msg = Msg(name=\"draft\", content=PROMPT)\n",
    "    return msg\n",
    "\n",
    "parallel_workflow = ParallelWorkFlow(aggregation_fn=aggregate_fn)\n",
    "for i, workflow in enumerate(workflows):\n",
    "    parallel_workflow.add_workflow(f\"workflow_{i}\", workflow)\n",
    "\n",
    "large_workflow = SequentialWorkFlow()\n",
    "large_workflow.add_node(parallel_workflow, \"parallel_workflow\")\n",
    "\n",
    "picker_agent = DialogAgent(\n",
    "    name=\"picker\",\n",
    "    model_config_name=\"gpt-3.5-turbo\",\n",
    "    sys_prompt=(\"You are a poetry editor. \"\n",
    "                \"Pick the best draft from the following drafts based on the style and creativity.\"\n",
    "                \"Just respond with your selected choice and the full draft.\"\n",
    "                \"Also provide a reason for your choice.\")\n",
    "                )\n",
    "\n",
    "large_workflow.add_node(picker_agent, \"picker\")\n",
    "large_workflow.add_edge(\"parallel_workflow\", \"picker\")\n",
    "large_workflow.set_entry_node(\"parallel_workflow\")\n",
    "large_workflow.set_exit_node(\"picker\")"
   ]
  },
  {
   "cell_type": "code",
   "execution_count": 40,
   "metadata": {},
   "outputs": [
    {
     "name": "stdout",
     "output_type": "stream",
     "text": [
      "Retry count: 0/1\n",
      "Retry count: 0/1\n",
      "Retry count: 0/1\n",
      "Retry count: 1/1\n",
      "Retry count: 1/1\n",
      "Retry count: 1/1\n",
      "I have chosen Draft 3: workflow_2 as the best draft.\n",
      "\n",
      "Draft 3: workflow_2\n",
      "In the garden of dreams, where moonbeams dance,\n",
      "Whispers of stardust in a fleeting trance.\n",
      "Petals of wishes, blooming bright,\n",
      "Under the velvet cloak of night.\n",
      "\n",
      "Reason: This draft stood out to me due to its enchanting imagery and lyrical flow. The use of vivid descriptions like \"moonbeams dance\" and \"whispers of stardust\" creates a magical and dreamy atmosphere. The overall elegance and beauty of the language make this draft a standout choice.\n"
     ]
    }
   ],
   "source": [
    "initial_msg = Msg(name=\"user\", \n",
    "                  content=\"Write me a 10-line short poem about the ocean.\")\n",
    "final_pick = large_workflow(initial_msg)\n",
    "print(final_pick.content)"
   ]
  },
  {
   "cell_type": "markdown",
   "metadata": {},
   "source": [
    "---"
   ]
  },
  {
   "cell_type": "markdown",
   "metadata": {},
   "source": [
    "24 Game Puzzles are downloaded from https://github.com/princeton-nlp/tree-of-thought-llm/blob/master/src/tot/data/24/24.csv"
   ]
  },
  {
   "cell_type": "code",
   "execution_count": 92,
   "metadata": {},
   "outputs": [
    {
     "ename": "SyntaxError",
     "evalue": "EOF while scanning triple-quoted string literal (1652590289.py, line 10)",
     "output_type": "error",
     "traceback": [
      "\u001b[1;36m  Cell \u001b[1;32mIn[92], line 10\u001b[1;36m\u001b[0m\n\u001b[1;33m    EVALUATOR_SYS_PROMPT = \"\"\"\u001b[0m\n\u001b[1;37m                              ^\u001b[0m\n\u001b[1;31mSyntaxError\u001b[0m\u001b[1;31m:\u001b[0m EOF while scanning triple-quoted string literal\n"
     ]
    }
   ],
   "source": [
    "QUESTION_PROMPT = \"\"\"\n",
    "    Given an input of 4 numbers\n",
    "    you need to use these 4 numbers and basic arithmetic operations (+-*/) to obtain 24 in 1 equation\n",
    "    Input numbers is: '3 5 7 3'.\n",
    "\"\"\"\n",
    "\n",
    "THINKER_SYS_PROMPT = \"\"\"\n",
    "    You're an TreeofThoughts, an superintelligent AI model devoted to helping Humans by any means necessary. \n",
    "    You're purpose is to generate a series of solutions to comply with the user's instructions, you must generate solutions on the basis of determining the most reliable solution in the shortest amount of time, while taking rejected solutions into account and learning from them.\n",
    "    Considering the following question: \n",
    "    {QUESTION_PROMPT} \n",
    "    Thinking Step by Steps to give your choice on possible next step to solve the problem.\n",
    "    For example, if input is 2 8 8 14, possible next stepes could be: \n",
    "    2 + 8 = 10 (left: 8 10 14)\n",
    "    8 / 2 = 4 (left: 4 8 14)\n",
    "    14 + 2 = 16 (left: 8 8 16)\n",
    "    2 * 8 = 16 (left: 8 14 16)\n",
    "    8 - 2 = 6 (left: 6 8 14)\n",
    "    14 - 8 = 6 (left: 2 6 8)\n",
    "    14 /  2 = 7 (left: 7 8 8)\n",
    "    14 - 2 = 12 (left: 8 8 12)\n",
    "    Response in the following format that can be loaded by python json.loads()\n",
    "        {\n",
    "            \"state\": \n",
    "            \"thought\": \"thought\",\n",
    "        }\n",
    "    \"\"\" \n",
    "    \n",
    "EVALUATOR_SYS_PROMPT = \"\"\" \n",
    "    Consider the following question: {QUESTION_PROMPT}.\n",
    "    To achieve the goal, pessimistically value the context of the past solutions and more importantly the latest generated solution you had AS A FLOAT BETWEEN 0 AND 1\\n.\n",
    "    If the solutions is not directly concretely making fast progress in achieving the goal, give it a lower score.\n",
    "    Evaluate all solutions AS A FLOAT BETWEEN 0 and 1:\\n,  DO NOT RETURN ANYTHING ELSE\n",
    "\"\"\"\n"
   ]
  },
  {
   "cell_type": "code",
   "execution_count": 91,
   "metadata": {},
   "outputs": [],
   "source": [
    "from agentscope.agents import DictDialogAgent\n",
    "thinker_agents = [\n",
    "    DictDialogAgent(\n",
    "        name=\"thinker\",\n",
    "        model_config_name=\"gpt-3.5-turbo\",\n",
    "        sys_prompt=SYS_PROMPT,\n",
    "    ),\n",
    "]"
   ]
  },
  {
   "cell_type": "code",
   "execution_count": null,
   "metadata": {},
   "outputs": [],
   "source": [
    "class TreeofThoughtsWorkFlow(WorkflowBase):\n",
    "    \n",
    "    "
   ]
  }
 ],
 "metadata": {
  "kernelspec": {
   "display_name": "agentscope",
   "language": "python",
   "name": "python3"
  },
  "language_info": {
   "codemirror_mode": {
    "name": "ipython",
    "version": 3
   },
   "file_extension": ".py",
   "mimetype": "text/x-python",
   "name": "python",
   "nbconvert_exporter": "python",
   "pygments_lexer": "ipython3",
   "version": "3.9.19"
  }
 },
 "nbformat": 4,
 "nbformat_minor": 2
}
