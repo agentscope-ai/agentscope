{
 "cells": [
  {
   "cell_type": "markdown",
   "metadata": {},
   "source": [
    "# Perform SQL query in natural language\n",
    "\n",
    "In this notebook, we provide an example of using React agent to perform sql query in natural lanugage. \n",
    "\n",
    "## Prerequisites\n",
    "\n",
    "- Follow [READMD.md](https://github.com/modelscope/agentscope) to install AgentScope.\n",
    "- Prepare a model configuration. AgentScope supports both local deployed model services (CPU or GPU) and third-party services. More details and example model configurations please refer to our [tutorial](https://modelscope.github.io/agentscope/en/tutorial/203-model.html).\n",
    "- Get familiar with service functions, ServiceFactory module and build-in ReAct agent. The corresponding example can be found in [ReAct agent example](../conversation_with_react_agent/main.ipynb).\n",
    "\n",
    "## Note\n",
    "\n",
    "- The example is tested with the following models. For other models, you may need to adjust the prompt.\n",
    "    - gpt-4 (The model that [DAIL-SQL](https://github.com/BeachWang/DAIL-SQL) is built on)\n",
    "    - gpt-3.5-turbo   "
   ]
  },
  {
   "cell_type": "markdown",
   "metadata": {},
   "source": [
    "## Step 1: Initializing model config and SQL database\n",
    "First, we initalize the agentscope config and load the corresponding model."
   ]
  },
  {
   "cell_type": "code",
   "execution_count": null,
   "metadata": {},
   "outputs": [],
   "source": [
    "%env HF_ENDPOINT=https://hf-mirror.com\n",
    "\n",
    "from typing import Callable\n",
    "import agentscope\n",
    "from agentscope.models import load_model_by_config_name\n",
    "agentscope.init(\n",
    "    model_configs=\"./configs/model_configs.json\",\n",
    ")\n",
    "loaded_model = load_model_by_config_name('gpt-3.5-turbo')"
   ]
  },
  {
   "cell_type": "markdown",
   "metadata": {},
   "source": [
    "Then, we init and provide the corresponding database path in sqlite file format.\n",
    "Here we generate the sqlite file using the provided sql commands [here](./database/concert_singer/schema.sql). \n",
    "You can also use the .sqlite format file directly."
   ]
  },
  {
   "cell_type": "code",
   "execution_count": null,
   "metadata": {},
   "outputs": [],
   "source": [
    "from sql_utils import create_sqlite_db_from_schema\n",
    "example_db_id = \"concert_singer\"\n",
    "db_schema_path = \"./database/concert_singer/schema.sql\"\n",
    "db_sqlite_path = \"./database/concert_singer/concert_singer.sqlite\"\n",
    "create_sqlite_db_from_schema(db_schema_path, db_sqlite_path)\n"
   ]
  },
  {
   "cell_type": "markdown",
   "metadata": {},
   "source": [
    "We can show a general description of the database schema using the code below."
   ]
  },
  {
   "cell_type": "code",
   "execution_count": 3,
   "metadata": {},
   "outputs": [
    {
     "name": "stdout",
     "output_type": "stream",
     "text": [
      "The provided database schema is composed of four tables: stadium, singer, concert, and singer_in_concert.\n",
      "\n",
      "The \"stadium\" table has the following fields:\n",
      "\n",
      "- Stadium_ID: An integer field which is the primary key of the table. It's a unique identification for the stadium.\n",
      "- Location: A text field that specifies the location of the stadium.\n",
      "- Name: A text field defining the name of the stadium.\n",
      "- Capacity: An integer field representing the maximum number of people who can be accommodated in the stadium.\n",
      "- Highest, Lowest, and Average: Integer fields that could represent various statistics related to the stadium, but their exact use isn't clear without more context.\n",
      "\n",
      "The \"singer\" table also has several fields:\n",
      "\n",
      "- Singer_ID: An integer field which is the primary key of this table and provides a unique identification for each singer.\n",
      "- Name: A text field giving the name of the singer.\n",
      "- Country: A text field for the country origin of the singer.\n",
      "- Song_Name: A text field to store the name of a song associated with the singer.\n",
      "- Song_release_year: A text field to store the year a song was released.\n",
      "- Age: An integer field indicating the singer's age.\n",
      "- Is_Male: A boolean field that indicates the gender of the singer. \n",
      "\n",
      "The \"concert\" table includes these fields:\n",
      "\n",
      "- concert_ID: An integer field which is the primary key for this table, uniquely identifying each concert.\n",
      "- concert_Name: A text field for the name of the concert.\n",
      "- Theme: A text field for the theme of the concert.\n",
      "- Year: A text field for the year the concert took place.\n",
      "- Stadium_ID: A text field that references the Stadium_ID from the \"stadium\" table, indicating where the concert was held.\n",
      "\n",
      "Finally, the \"singer_in_concert\" table links the previous tables together with the following fields:\n",
      "\n",
      "- concert_ID: An integer field that references the Concert_ID from the \"concert\" table. It is part of the primary key for this table.\n",
      "- Singer_ID: A text field that references Singer_ID from the \"singer\" table. It's also part of the primary key for this table.\n",
      "\n",
      "The relationship between these four tables allows you to describe concerts held in different stadiums, including which singers performed at each concert.\n"
     ]
    }
   ],
   "source": [
    "from loguru import logger\n",
    "from sql_utils import SQLPrompt\n",
    "describe_prompt = SQLPrompt().describe_schema(db_sqlite_path)\n",
    "sql_description = loaded_model([{\"role\": \"assistant\", \"content\": describe_prompt}]).text\n",
    "logger.chat(sql_description)"
   ]
  },
  {
   "cell_type": "markdown",
   "metadata": {},
   "source": [
    "## Step 2: Setting up tool functions\n",
    "Then, we define the tools needed for React Agent to perform SQL query. Namely, our agent should be able to generate sql query given natural language and perform sql query to get the result.\n",
    "\n",
    "- We referenced a third-party Text-to-SQL [DAIL-SQL](https://github.com/BeachWang/DAIL-SQL) to generate Text-to-SQL prompt.\n",
    "- We use the query_sqlite service function in the agentscope.service module. "
   ]
  },
  {
   "cell_type": "code",
   "execution_count": 4,
   "metadata": {},
   "outputs": [],
   "source": [
    "from agentscope.service import ServiceResponse, ServiceExecStatus, ServiceFactory\n",
    "from sql_utils import DailSQLPromptGenerator, SQLPrompt\n",
    "\n",
    "def generate_sql_query(question: str, db_path: str) -> ServiceResponse:\n",
    "    \"\"\"\n",
    "    Generate the sql query based on the natural lanugage question from user.\n",
    "    Args:\n",
    "        question (`str`):\n",
    "            The question asked by user in natural language.\n",
    "        db_path (`str`):\n",
    "            The path to the .sqlite file.\n",
    "    \"\"\"\n",
    "    prompt_helper = DailSQLPromptGenerator(db_path)\n",
    "    prepared_prompt = prompt_helper.generate_prompt({\"content\": question})\n",
    "    \n",
    "    def get_response_from_prompt(prompt: dict, model: Callable) -> str:\n",
    "        \"\"\"\n",
    "        Generate response from prompt using LLM\n",
    "        \"\"\"\n",
    "        messages = [{\"role\": \"assistant\", \"content\": prompt}]\n",
    "        sql = model(messages).text\n",
    "        sql = \" \".join(sql.replace(\"\\n\", \" \").split())\n",
    "        sql = sql.strip().split(\"/*\")[0]\n",
    "        if sql.startswith(\"SELECT\"):\n",
    "            response = sql + \"\\n\"\n",
    "        elif sql.startswith(\" \"):\n",
    "            response = \"SELECT\" + sql + \"\\n\"\n",
    "        else:\n",
    "            response = \"SELECT \" + sql + \"\\n\"\n",
    "        return response\n",
    "\n",
    "    sql_response = get_response_from_prompt(\n",
    "        prepared_prompt[\"prompt\"], model=loaded_model\n",
    "    )\n",
    "\n",
    "    return ServiceResponse(\n",
    "        ServiceExecStatus.SUCCESS,\n",
    "        sql_response\n",
    "    )\n",
    "\n",
    "from agentscope.service import query_sqlite\n",
    "\n",
    "\n",
    "# Use Service Factory to setup tool functions for LLMs\n",
    "tools = [\n",
    "    ServiceFactory.get(generate_sql_query, db_path=db_sqlite_path),\n",
    "    ServiceFactory.get(query_sqlite, database=db_sqlite_path),\n",
    "]"
   ]
  },
  {
   "cell_type": "markdown",
   "metadata": {},
   "source": [
    "## Step 3: Create the ReAct agent to help perform SQL queries\n",
    "\n",
    "Now, we can init the ReAct Agent using the defined tools and interact with the agent."
   ]
  },
  {
   "cell_type": "code",
   "execution_count": null,
   "metadata": {},
   "outputs": [],
   "source": [
    "from agentscope.agents import ReActAgent\n",
    "agent = ReActAgent(\n",
    "    name=\"assistant\",\n",
    "    model_config_name='gpt-4',\n",
    "    tools=tools,\n",
    "    sys_prompt=\"You are a helpful agent that preform SQL querys base on natual language instructions.\",\n",
    "    verbose=True, # set verbose to True to show the reasoning process\n",
    ")"
   ]
  },
  {
   "cell_type": "markdown",
   "metadata": {},
   "source": [
    "## Step 4: Interact with the SQL ReAct Agent using natural lanugage\n",
    "\n",
    "Now let's see how the agent have response to our questions:"
   ]
  },
  {
   "cell_type": "code",
   "execution_count": 6,
   "metadata": {},
   "outputs": [
    {
     "name": "stdout",
     "output_type": "stream",
     "text": [
      "user: How many singers do we have?\n",
      "##################### ITER 1, STEP 1: REASONING ######################\n",
      "assistant: {\n",
      "    \"thought\": \"I received a question asking how many singers there are. To get this information, I need to generate a SQL query to count the total number of unique singers in the 'singers' table.\",\n",
      "    \"speak\": \"Let me find that out for you.\",\n",
      "    \"function\": [\n",
      "        {\n",
      "            \"name\": \"generate_sql_query\",\n",
      "            \"arguments\": {\n",
      "                \"question\": \"How many singers do we have?\"\n",
      "            }\n",
      "        }\n",
      "    ]\n",
      "}\n",
      "####################### ITER 1, STEP 2: ACTION #######################\n",
      ">>> Executing function generate_sql_query ...\n",
      ">>> END \n",
      "system: Execution Results:\n",
      "1. generate_sql_query:\n",
      "    [EXECUTE STATUS]: SUCCESS\n",
      "    [EXECUTE RESULT]: SELECT count(*) FROM singer \n",
      "\n",
      "\n",
      "##################### ITER 2, STEP 1: REASONING ######################\n",
      "assistant: {\n",
      "    \"thought\": \"The SQL query to count the number of singers was successfully generated. I need to execute this query in the database to get the actual count.\",\n",
      "    \"speak\": \"I'm on it. Just a moment while I retrieve the information.\",\n",
      "    \"function\": [\n",
      "        {\n",
      "            \"name\": \"query_sqlite\",\n",
      "            \"arguments\": {\n",
      "                \"query\": \"SELECT count(*) FROM singer\",\n",
      "                \"maxcount_results\": null,\n",
      "                \"allow_change_data\": false\n",
      "            }\n",
      "        }\n",
      "    ]\n",
      "}\n",
      "####################### ITER 2, STEP 2: ACTION #######################\n",
      ">>> Executing function query_sqlite ...\n",
      ">>> END \n",
      "system: Execution Results:\n",
      "1. query_sqlite:\n",
      "    [EXECUTE STATUS]: SUCCESS\n",
      "    [EXECUTE RESULT]: [(6,)]\n",
      "\n",
      "##################### ITER 3, STEP 1: REASONING ######################\n",
      "assistant: {\n",
      "    \"thought\": \"I executed the SQL query to count the number of singers and retrieved the result successfully, which indicates there are 6 singers in the database.\",\n",
      "    \"speak\": \"There are 6 singers.\",\n",
      "    \"function\": []\n",
      "}\n"
     ]
    }
   ],
   "source": [
    "from agentscope.message import Msg\n",
    "mss = Msg(\n",
    "    name=\"user\", \n",
    "    content=\"How many singers do we have?\", \n",
    "    role=\"user\"\n",
    ")\n",
    "logger.chat(mss)\n",
    "sql_query_mss1 = agent(mss)\n"
   ]
  },
  {
   "cell_type": "code",
   "execution_count": 7,
   "metadata": {},
   "outputs": [
    {
     "name": "stdout",
     "output_type": "stream",
     "text": [
      "user: Show all countries and the number of singers in each country.\n",
      "##################### ITER 1, STEP 1: REASONING ######################\n",
      "assistant: {\n",
      "    \"thought\": \"The user wants to see all countries and the number of singers in each country. I'll generate a SQL query to count the singers by country from the relevant table.\",\n",
      "    \"speak\": \"Let me pull up the list of countries and how many singers each one has.\",\n",
      "    \"function\": [\n",
      "        {\n",
      "            \"name\": \"generate_sql_query\",\n",
      "            \"arguments\": {\n",
      "                \"question\": \"Show all countries and the number of singers in each country.\"\n",
      "            }\n",
      "        }\n",
      "    ]\n",
      "}\n",
      "####################### ITER 1, STEP 2: ACTION #######################\n",
      ">>> Executing function generate_sql_query ...\n",
      ">>> END \n",
      "system: Execution Results:\n",
      "1. generate_sql_query:\n",
      "    [EXECUTE STATUS]: SUCCESS\n",
      "    [EXECUTE RESULT]: SELECT ```sql SELECT country, COUNT(*) AS num_singers FROM singer GROUP BY country ``` This SQL query will list each country along with the number of singers from that country, based on the singer table's data.\n",
      "\n",
      "\n",
      "##################### ITER 2, STEP 1: REASONING ######################\n",
      "assistant: {\n",
      "    \"thought\": \"The SQL query to get the count of singers in each country was successfully generated. Now I need to execute this query in the database.\",\n",
      "    \"speak\": \"I'm on it. Just a moment while I pull up the details.\",\n",
      "    \"function\": [\n",
      "        {\n",
      "            \"name\": \"query_sqlite\",\n",
      "            \"arguments\": {\n",
      "                \"query\": \"SELECT country, COUNT(*) AS num_singers FROM singer GROUP BY country\",\n",
      "                \"maxcount_results\": null,\n",
      "                \"allow_change_data\": false\n",
      "            }\n",
      "        }\n",
      "    ]\n",
      "}\n",
      "####################### ITER 2, STEP 2: ACTION #######################\n",
      ">>> Executing function query_sqlite ...\n",
      ">>> END \n",
      "system: Execution Results:\n",
      "1. query_sqlite:\n",
      "    [EXECUTE STATUS]: SUCCESS\n",
      "    [EXECUTE RESULT]: [('France', 4), ('Netherlands', 1), ('United States', 1)]\n",
      "\n",
      "##################### ITER 3, STEP 1: REASONING ######################\n",
      "assistant: {\n",
      "    \"thought\": \"I have successfully retrieved the count of singers from each country. The results indicate that there are 4 singers from France, 1 singer from Netherlands, and 1 singer from the United States.\",\n",
      "    \"speak\": \"Here are the numbers of singers by country: France has 4 singers, Netherlands has 1 singer, and the United States also has 1 singer.\",\n",
      "    \"function\": []\n",
      "}\n"
     ]
    }
   ],
   "source": [
    "mss = Msg(\n",
    "    name=\"user\", \n",
    "    content=\"Show all countries and the number of singers in each country.\", \n",
    "    role=\"user\"\n",
    ")\n",
    "logger.chat(mss)\n",
    "sql_query_mss2 = agent(mss)"
   ]
  },
  {
   "cell_type": "code",
   "execution_count": 8,
   "metadata": {},
   "outputs": [
    {
     "name": "stdout",
     "output_type": "stream",
     "text": [
      "user: How many singers have held concert in multiple stadiums? Give me the name of these singers.\n",
      "##################### ITER 1, STEP 1: REASONING ######################\n",
      "assistant: {\n",
      "    \"thought\": \"To find out how many singers have held concerts in multiple stadiums and their names, I need to generate and execute a SQL query that counts concerts by singer and filters for those with counts greater than 1 in a 'concerts' table, likely involving a JOIN with the 'singers' table.\",\n",
      "    \"speak\": \"I'll look into which singers have graced multiple stadiums with their performances. One moment, please.\",\n",
      "    \"function\": [\n",
      "        {\n",
      "            \"name\": \"generate_sql_query\",\n",
      "            \"arguments\": {\n",
      "                \"question\": \"How many singers have held concert in multiple stadiums? Give me the name of these singers.\"\n",
      "            }\n",
      "        }\n",
      "    ]\n",
      "}\n",
      "####################### ITER 1, STEP 2: ACTION #######################\n",
      ">>> Executing function generate_sql_query ...\n",
      ">>> END \n",
      "system: Execution Results:\n",
      "1. generate_sql_query:\n",
      "    [EXECUTE STATUS]: SUCCESS\n",
      "    [EXECUTE RESULT]: SELECT To find how many singers have held concerts in multiple stadiums, and to get the names of these singers, you can use the following SQL query: ```sql SELECT S.Name, COUNT(DISTINCT C.Stadium_ID) AS StadiumCount FROM singer S JOIN singer_in_concert SC ON S.Singer_ID = SC.Singer_ID JOIN concert C ON SC.concert_ID = C.concert_ID GROUP BY S.Name HAVING COUNT(DISTINCT C.Stadium_ID) > 1; ``` This query joins the `singer`, `singer_in_concert`, and `concert` tables to find how many different stadiums each singer has performed in. It groups the results by the singer's name and filters for those who have performed in more than one stadium.\n",
      "\n",
      "\n",
      "##################### ITER 2, STEP 1: REASONING ######################\n",
      "assistant: {\n",
      "    \"thought\": \"The SQL query to get the singers who have held concerts in multiple stadiums was successfully generated. Now I need to execute this query in the database to get the names of these singers.\",\n",
      "    \"speak\": \"I'm on it. Just a moment while I retrieve the details.\",\n",
      "    \"function\": [\n",
      "        {\n",
      "            \"name\": \"query_sqlite\",\n",
      "            \"arguments\": {\n",
      "                \"query\": \"SELECT S.Name, COUNT(DISTINCT C.Stadium_ID) AS StadiumCount FROM singer S JOIN singer_in_concert SC ON S.Singer_ID = SC.Singer_ID JOIN concert C ON SC.concert_ID = C.concert_ID GROUP BY S.Name HAVING COUNT(DISTINCT C.Stadium_ID) > 1;\",\n",
      "                \"maxcount_results\": null,\n",
      "                \"allow_change_data\": false\n",
      "            }\n",
      "        }\n",
      "    ]\n",
      "}\n",
      "####################### ITER 2, STEP 2: ACTION #######################\n",
      ">>> Executing function query_sqlite ...\n",
      ">>> END \n",
      "system: Execution Results:\n",
      "1. query_sqlite:\n",
      "    [EXECUTE STATUS]: SUCCESS\n",
      "    [EXECUTE RESULT]: [('John Nizinik', 2), ('Justin Brown', 3), ('Timbaland', 2), ('Tribal King', 2)]\n",
      "\n",
      "##################### ITER 3, STEP 1: REASONING ######################\n",
      "assistant: {\n",
      "    \"thought\": \"I have successfully retrieved the singers who have held concerts in multiple stadiums. The results are 'John Nizinik', 'Justin Brown', 'Timbaland', and 'Tribal King'.\",\n",
      "    \"speak\": \"Four singers have given concerts in multiple stadiums. They are 'John Nizinik', 'Justin Brown', 'Timbaland', and 'Tribal King'.\",\n",
      "    \"function\": []\n",
      "}\n"
     ]
    }
   ],
   "source": [
    "mss = Msg(\n",
    "    name=\"user\", \n",
    "    content=\"How many singers have held concert in multiple stadiums? Give me the name of these singers.\", \n",
    "    role=\"user\"\n",
    ")\n",
    "logger.chat(mss)\n",
    "sql_query_mss3 = agent(mss)"
   ]
  },
  {
   "cell_type": "markdown",
   "metadata": {},
   "source": [
    "You can use the following code to build a conversation with the ReAct agent:\n",
    "\n",
    "``` python\n",
    "from agentscope.agents import UserAgent\n",
    "\n",
    "user = UserAgent(name=\"User\")\n",
    "\n",
    "x = None\n",
    "while True:\n",
    "    x = user(x)\n",
    "    if x.content == \"exit\":\n",
    "        break\n",
    "    x = agent(x)\n",
    "```"
   ]
  },
  {
   "cell_type": "markdown",
   "metadata": {},
   "source": [
    "The capabilities of the ReAct agent are indeed very powerful. By modifying prompts and expanding the corresponding usage tools, the ReAct agent can leverage the combination of LLM and tools to accomplish more complex tasks.\n",
    "\n",
    "We encourage users to delve deeper into exploring the Agent's functionalities and to try out the capabilities of the LLM agent on their own."
   ]
  }
 ],
 "metadata": {
  "kernelspec": {
   "display_name": "Python 3 (ipykernel)",
   "language": "python",
   "name": "python3"
  },
  "language_info": {
   "codemirror_mode": {
    "name": "ipython",
    "version": 3
   },
   "file_extension": ".py",
   "mimetype": "text/x-python",
   "name": "python",
   "nbconvert_exporter": "python",
   "pygments_lexer": "ipython3",
   "version": "3.9.18"
  }
 },
 "nbformat": 4,
 "nbformat_minor": 4
}
