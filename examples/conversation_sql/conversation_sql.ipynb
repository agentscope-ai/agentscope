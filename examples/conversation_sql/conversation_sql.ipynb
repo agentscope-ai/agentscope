{
 "cells": [
  {
   "cell_type": "markdown",
   "metadata": {},
   "source": [
    "# Perform SQL query in natural Language\n",
    "\n",
    "In this notebook, we provide an example of using SQL agent to perform sql query in natural lanugage."
   ]
  },
  {
   "cell_type": "code",
   "execution_count": null,
   "metadata": {},
   "outputs": [],
   "source": [
    "# First init the agent config.\n",
    "import agentscope\n",
    "from agentscope.agents.user_agent import UserAgent\n",
    "from conversation_sql import SQLAgent\n",
    "\n",
    "agentscope.init(\n",
    "    model_configs=\"./configs/model_configs.json\",\n",
    ")"
   ]
  },
  {
   "cell_type": "code",
   "execution_count": null,
   "metadata": {},
   "outputs": [],
   "source": [
    "# Then provide the database in sql_lite format\n",
    "from sql_utils import create_sqlite_db_from_schema\n",
    "\n",
    "\n",
    "example_db_id = \"concert_singer\"\n",
    "db_schema_path = \"./database/concert_singer/schema.sql\"\n",
    "db_sqlite_path = \"./database/concert_singer/concert_singer.sqlite\"\n",
    "create_sqlite_db_from_schema(db_schema_path, db_sqlite_path)\n"
   ]
  },
  {
   "cell_type": "code",
   "execution_count": null,
   "metadata": {},
   "outputs": [],
   "source": [
    "# We init the SQL agent and user agent\n",
    "sql_agent = SQLAgent(\n",
    "    name=\"SQL Agent\",\n",
    "    db_id=example_db_id,\n",
    "    db_path=db_sqlite_path,\n",
    "    model_config_name=\"gpt-4\",\n",
    ")\n",
    "user_agent = UserAgent()\n",
    "\n",
    "# Now we can interact with SQL agent\n",
    "mss = None\n",
    "while True:\n",
    "    mss = sql_agent(mss)\n",
    "    mss = user_agent(mss)\n",
    "\n",
    "    if mss.content == \"exit\":\n",
    "        print(\"Exiting the conversation.\")\n",
    "        break"
   ]
  },
  {
   "cell_type": "markdown",
   "metadata": {},
   "source": [
    "We show the following dialog as an example."
   ]
  },
  {
   "cell_type": "markdown",
   "metadata": {},
   "source": [
    "SQL Agent: Hi, I am an agent able to preform SQL querys base on natual language instructions. \n",
    "\n",
    "Below is a description of the database concert_singer provided.\n",
    "\n",
    "The database consists of four tables:\n",
    "\n",
    "1. Stadium: This table holds records related to stadiums. Each record in this table represents a particular stadium, identified by a unique Stadium_ID. Other details about a stadium, such as its Location, Name, Capacity, Highest, Lowest, and Average, are also stored in this table.\n",
    "\n",
    "2. Singer: This provides information about different singers. Each row in this table corresponds to one singer and is uniquely identified by Singer_ID. The table also stores other information about a singer like Name, Country, Song_Name, Song_release_year, Age, and a Boolean Is_male field indicating if the singer is male.\n",
    "\n",
    "3. Concert: This table stores data about various concerts. Each concert is identified by a unique concert_ID. The table also has concert_Name, Theme, Stadium_ID where the concert occurred, and Year fields. The Stadium_ID field here is a foreign key that references the Stadium_ID from the Stadium table, indicating which stadium the concert took place in.\n",
    "\n",
    "4. Singer_in_Concert: This table is built to establish a relationship between the Singer and Concert tables. It has a composite primary key consisting of concert_ID and Singer_ID. These are foreign keys that link to respective entries in the Concert and Singer tables. It signifies which singer performed in which concert.\n",
    "\n",
    "Is there any you want to ask about the database concert_singer?\n",
    "\n",
    "User: Show all countries and the number of singers in each country.\n",
    "\n",
    "SQL Agent: Generated SQL query is: SELECT Country , COUNT(*) FROM singer GROUP BY Country\n",
    "\n",
    " The execution result is: [('France', 4), ('Netherlands', 1), ('United States', 1)]\n",
    "\n",
    "The number of singers in each country is as follows:\n",
    "- France: 4 singers\n",
    "- Netherlands: 1 singer\n",
    "- United States: 1 singer\n",
    "\n",
    "User: How many singers have held concert in multiple stadiums?Give me the name of these singers.\n",
    "\n",
    "SQL Agent: Generated SQL query is: SELECT T1.Name FROM singer AS T1 JOIN singer_in_concert AS T2 ON T1.Singer_ID = T2.Singer_ID JOIN concert AS T3 ON T2.concert_ID = T3.concert_ID GROUP BY T1.Name HAVING COUNT(DISTINCT T3.Stadium_ID) > 1 \n",
    "\n",
    " The execution result is: [('John Nizinik',), ('Justin Brown',), ('Timbaland',), ('Tribal King',)]\n",
    " \n",
    "There are 4 singers who have held concerts in multiple stadiums: John Nizinik, Justin Brown, Timbaland, and Tribal King.\n",
    "\n",
    "User: Thank you.\n",
    "\n",
    "SQL Agent: Your message doesn't contain a question. Could you please provide more details or ask a question?\n",
    "\n",
    "User: How many football players do we have?\n",
    "\n",
    "SQL Agent: No, this question is not appropriate for the given SQL schema. The existing schema does not contain any table or field related to football players. It deals with concert, singer and stadium information only.\n",
    "\n",
    "User: eixt\n",
    "\n",
    "SQL Agent: I'm sorry for the confusion, but \"eixt\" does not seem to be a question or a query related to the given SQL schema. It appears to be a typo. If you have a specific question about the SQL schema or need help with a query, feel free to ask!\n",
    "\n",
    "User: exit\n",
    "\n",
    "Exiting the conversation."
   ]
  }
 ],
 "metadata": {
  "kernelspec": {
   "display_name": "datajuicer",
   "language": "python",
   "name": "python3"
  },
  "language_info": {
   "codemirror_mode": {
    "name": "ipython",
    "version": 3
   },
   "file_extension": ".py",
   "mimetype": "text/x-python",
   "name": "python",
   "nbconvert_exporter": "python",
   "pygments_lexer": "ipython3",
   "version": "3.9.18"
  }
 },
 "nbformat": 4,
 "nbformat_minor": 2
}
