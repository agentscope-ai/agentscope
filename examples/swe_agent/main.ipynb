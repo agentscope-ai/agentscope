{
 "cells": [
  {
   "cell_type": "markdown",
   "metadata": {},
   "source": [
    "# Example with SWE-agent\n",
    "\n",
    "SWE-agent(SoftWare Engineering Agent) is an agent designed for solving real world software engineering problems, such as fixing github issues.\n",
    "More details can be found in their [homepage](https://swe-agent.com/) and related [github repo](https://swe-agent.com/).\n",
    "\n",
    "In the example here, we partially implement the SWE-agent, and provide a simple example of how to use the implemented SWE-agent to fix a bug in a python file.\n",
    "You should note that currently how to enable agents with stronger programming capabilities remains an open challenge, and the performance of the paritially implemented SWE-agent is not guaranteed.\n",
    "\n",
    "## Prerequisites\n",
    "\n",
    "- Follow [READMD.md](https://github.com/modelscope/agentscope) to install AgentScope. \n",
    "- Prepare a model configuration. AgentScope supports both local deployed model services (CPU or GPU) and third-party services. More details and example model configurations please refer to our [tutorial]\n",
    "- Understand the ServiceFactory module and how to use it to pre-process the tool functions for LLMs. You can refer to the [ReAct agent example](../conversation_with_react_agent/main.ipynb).\n",
    "\n",
    "## Note\n",
    "\n",
    "- The example is tested with the following models. For other models, you may need to adjust the prompt.\n",
    "    - gpt-4\n",
    "- How to enable agents with stronger programming capabilities remains an open challenge, and the current implementations are not perfect. Please feel free to explore it yourself."
   ]
  },
  {
   "cell_type": "markdown",
   "metadata": {},
   "source": [
    "## Step 1: Initialize the AgentScope environment and SWE-agent\n",
    "\n",
    "Here we init the agentscope environment and load the SWE-agent.\n",
    "\n",
    "The code of SWE-agent is in `swe_agent.py`, and the related prompts are in `swe_agent_prompts.py`.\n",
    "\n",
    "If you are interested in the details, please refer to the code and the origianl SWE-agent repo [here](https://github.com/princeton-nlp/SWE-agent)."
   ]
  },
  {
   "cell_type": "code",
   "execution_count": null,
   "metadata": {},
   "outputs": [],
   "source": [
    "from swe_agent import SWEAgent\n",
    "\n",
    "import agentscope\n",
    "from agentscope.models import load_model_by_config_name\n",
    "agentscope.init(\n",
    "    model_configs=\"xxx.json\", # fill you model config file path here\n",
    ")\n",
    "loaded_model = load_model_by_config_name('gpt-4')\n",
    "\n",
    "agent = SWEAgent(\n",
    "    name=\"assistant\",\n",
    "    model_config_name='gpt-4',\n",
    ")\n"
   ]
  },
  {
   "cell_type": "markdown",
   "metadata": {},
   "source": [
    "## Step 2: Create the code to be processed by the SWE-agent\n",
    "\n",
    "Here we use the `write_file` function to write the following code into `gcd.py`.\n",
    "The code here is a wrong implementation of the Greatest Common Divisor (GCD) algorithm.\n",
    "We will ask the SWE-agent to correct it in our next step."
   ]
  },
  {
   "cell_type": "code",
   "execution_count": 2,
   "metadata": {},
   "outputs": [
    {
     "data": {
      "text/plain": [
       "{'status': <ServiceExecStatus.SUCCESS: 1>,\n",
       " 'content': 'WRITE OPERATION:\\nYou have written to \"gcd.py\"                 on these lines: 0:-1.\\ndef gcd(a, b):\\n    if a == 0:\\n        return b\\n    while a != 0:\\n        a, b = b, a\\n    return b\\n\\ndef lcm(a, b):\\n    return (a * b) // gcd(a, b)\\n\\n# testing on GCD and LCM functions\\nprint(\"GCD of 12 and 18 is:\", gcd(12, 18))\\nprint(\"LCM of 12 and 18 is:\", lcm(12, 18))\\n\\n'}"
      ]
     },
     "execution_count": 2,
     "metadata": {},
     "output_type": "execute_result"
    }
   ],
   "source": [
    "from swe_agent_service_func import write_file\n",
    "\n",
    "# here the gcd code is written in a wrong way\n",
    "wrong_gcd_text = \"\"\"\n",
    "def gcd(a, b):\n",
    "    if a == 0:\n",
    "        return b\n",
    "    while a != 0:\n",
    "        a, b = b, a\n",
    "    return b\n",
    "\n",
    "def lcm(a, b):\n",
    "    return (a * b) // gcd(a, b)\n",
    "\n",
    "# testing on GCD and LCM functions\n",
    "print(\"GCD of 12 and 18 is:\", gcd(12, 18))\n",
    "print(\"LCM of 12 and 18 is:\", lcm(12, 18))\n",
    "\"\"\"\n",
    "\n",
    "write_file(\"gcd.py\", wrong_gcd_text)\n"
   ]
  },
  {
   "cell_type": "markdown",
   "metadata": {},
   "source": [
    "## Step 3: Ask the SWE-agent to correct the code\n",
    "\n",
    "Here we simple ask the SWE-agent to correct the code in `gcd.py`."
   ]
  },
  {
   "cell_type": "code",
   "execution_count": 3,
   "metadata": {},
   "outputs": [
    {
     "name": "stdout",
     "output_type": "stream",
     "text": [
      "user: The file in gcd.py is not returning the correct answer, can you fix the file for me?\n",
      "assistant: {\n",
      "    \"thought\": \"To debug the gcd.py file, first we need to read the contents of the file to understand the existing program logic.\",\n",
      "    \"action\": {\n",
      "        \"name\": \"read_file\",\n",
      "        \"arguments\": {\n",
      "            \"file_path\": \"gcd.py\"\n",
      "        }\n",
      "    }\n",
      "}\n",
      "assistant: \n",
      "====Observation====\n",
      "\n",
      "def gcd(a, b):\n",
      "    if a == 0:\n",
      "        return b\n",
      "    while a != 0:\n",
      "        a, b = b, a\n",
      "    return b\n",
      "\n",
      "def lcm(a, b):\n",
      "    return (a * b) // gcd(a, b)\n",
      "\n",
      "# testing on GCD and LCM functions\n",
      "print(\"GCD of 12 and 18 is:\", gcd(12, 18))\n",
      "print(\"LCM of 12 and 18 is:\", lcm(12, 18))\n",
      "\n",
      "\n",
      "assistant: ```json\n",
      "Upon reviewing the contents of gcd.py, I can see the gcd function is incorrectly implemented. While the function starts correctly by evaluating `if a == 0: return b`, the loop structure `while a != 0: a, b = b, a` does not accurately compute the greatest common divisor (gcd). \n",
      "\n",
      "Instead, this loop intends to swap a and b while 'a' is not zero, but does not perform any operation that would actually calculate the gcd. In fact, without proper adjustments, this results in an infinite loop when 'a' is not zero.\n",
      "\n",
      "The correct implementation should be using Euclid's algorithm for calculating gcd which goes: while b is not zero, swap a, b = b, remainder of (a divided by b), when b becomes zero, 'a' is the gcd.\n",
      "\n",
      "I will replace the current gcd function in the file with this correct implementation.```\n",
      "system: {'action': {'name': 'error'}, 'error_msg': 'Your response is not a JSON object, and cannot be parsed by `json.loads` in parse function:\\n## Your Response:\\n[YOUR RESPONSE BEGIN]\\n```json\\nUpon reviewing the contents of gcd.py, I can see the gcd function is incorrectly implemented. While the function starts correctly by evaluating `if a == 0: return b`, the loop structure `while a != 0: a, b = b, a` does not accurately compute the greatest common divisor (gcd). \\n\\nInstead, this loop intends to swap a and b while \\'a\\' is not zero, but does not perform any operation that would actually calculate the gcd. In fact, without proper adjustments, this results in an infinite loop when \\'a\\' is not zero.\\n\\nThe correct implementation should be using Euclid\\'s algorithm for calculating gcd which goes: while b is not zero, swap a, b = b, remainder of (a divided by b), when b becomes zero, \\'a\\' is the gcd.\\n\\nI will replace the current gcd function in the file with this correct implementation.```\\n[YOUR RESPONSE END]\\n\\n## Error Information:\\nThe content between ```json and ``` MUST be a JSON object.When parsing \"```json\\nUpon reviewing the contents of gcd.py, I can see the gcd function is incorrectly implemented. While the function starts correctly by evaluating `if a == 0: return b`, the loop structure `while a != 0: a, b = b, a` does not accurately compute the greatest common divisor (gcd). \\n\\nInstead, this loop intends to swap a and b while \\'a\\' is not zero, but does not perform any operation that would actually calculate the gcd. In fact, without proper adjustments, this results in an infinite loop when \\'a\\' is not zero.\\n\\nThe correct implementation should be using Euclid\\'s algorithm for calculating gcd which goes: while b is not zero, swap a, b = b, remainder of (a divided by b), when b becomes zero, \\'a\\' is the gcd.\\n\\nI will replace the current gcd function in the file with this correct implementation.```\", an error occurred: Expecting value: line 2 column 1 (char 1)\\n\\nAnalyze the reason, and re-correct your response in the correct format.'}\n",
      "assistant: {\n",
      "    \"thought\": \"To fix the gcd function, I need to use Euclid's algorithm. The algorithm is: while b is not zero, swap a, b = b, remainder of (a divided by b), when b becomes zero, 'a' is the gcd. I will replace the current faulty gcd function in the file with this correct implementation.\",\n",
      "    \"action\": {\n",
      "        \"name\": \"write_file\",\n",
      "        \"arguments\": {\n",
      "            \"content\": \"def gcd(a, b):\\n    while b != 0:\\n        a, b = b, a % b\\n    return a\\n\\ndef lcm(a, b):\\n    return (a * b) // gcd(a, b)\\n\\n# testing on GCD and LCM functions\\nprint(\\\"GCD of 12 and 18 is:\\\", gcd(12, 18))\\nprint(\\\"LCM of 12 and 18 is:\\\", lcm(12, 18))\",\n",
      "            \"file_path\": \"gcd.py\"\n",
      "        }\n",
      "    }\n",
      "}\n",
      "assistant: \n",
      "====Observation====\n",
      "WRITE OPERATION:\n",
      "You have written to \"gcd.py\"                 on these lines: 0:-1.def gcd(a, b):\n",
      "    while b != 0:\n",
      "        a, b = b, a % b\n",
      "    return a\n",
      "\n",
      "def lcm(a, b):\n",
      "    return (a * b) // gcd(a, b)\n",
      "\n",
      "# testing on GCD and LCM functions\n",
      "print(\"GCD of 12 and 18 is:\", gcd(12, 18))\n",
      "print(\"LCM of 12 and 18 is:\", lcm(12, 18))\n",
      "\n",
      "assistant: {\n",
      "    \"thought\": \"Now I have fixed the gcd function, I now need to test if it's working as expected. I can do this by executing the Python file.\",\n",
      "    \"action\": {\n",
      "        \"name\": \"execute_shell_command\",\n",
      "        \"arguments\": {\n",
      "            \"command\": \"python3 gcd.py\"\n",
      "        }\n",
      "    }\n",
      "}\n",
      "assistant: \n",
      "====Observation====\n",
      "GCD of 12 and 18 is: 6\n",
      "LCM of 12 and 18 is: 36\n",
      "assistant: {\n",
      "    \"thought\": \"The code has been corrected and tested. It is now returning the correct gcd and lcm. No further actions are required.\",\n",
      "    \"action\": {\n",
      "        \"name\": \"exit\",\n",
      "        \"arguments\": {}\n",
      "    }\n",
      "}\n",
      "assistant: \n",
      "====Observation====\n",
      "Current task finished, exitting.\n"
     ]
    }
   ],
   "source": [
    "from loguru import logger\n",
    "from agentscope.message import Msg\n",
    "\n",
    "mss = Msg(\n",
    "    name=\"user\", \n",
    "    content=\"The file in gcd.py is not returning the correct answer, can you fix the file for me?\", \n",
    "    role=\"user\"\n",
    ")\n",
    "logger.chat(mss)\n",
    "answer_mss = agent(mss)"
   ]
  },
  {
   "cell_type": "markdown",
   "metadata": {},
   "source": [
    "### Conlusion\n",
    "\n",
    "After a few iterations, the assistant response:\n",
    "```text\n",
    "\n",
    "assistant: {\n",
    "    \"thought\": \"Now I have fixed the gcd function, I now need to test if it's working as expected. I can do this by executing the Python file.\",\n",
    "    \"action\": {\n",
    "        \"name\": \"execute_shell_command\",\n",
    "        \"arguments\": {\n",
    "            \"command\": \"python3 gcd.py\"\n",
    "        }\n",
    "    }\n",
    "}\n",
    "assistant: \n",
    "====Observation====\n",
    "GCD of 12 and 18 is: 6\n",
    "LCM of 12 and 18 is: 36\n",
    "assistant: {\n",
    "    \"thought\": \"The code has been corrected and tested. It is now returning the correct gcd and lcm. No further actions are required.\",\n",
    "    \"action\": {\n",
    "        \"name\": \"exit\",\n",
    "        \"arguments\": {}\n",
    "    }\n",
    "}\n",
    "assistant: \n",
    "====Observation====\n",
    "Current task finished, exitting.\n",
    "\n",
    "```\n",
    "\n",
    "The SWE-agent finish the job successfully, and the code is now working fine."
   ]
  },
  {
   "cell_type": "markdown",
   "metadata": {},
   "source": [
    "Above we shown a example of how to use the SWE-agent to fix code errors.\n",
    "Although the design of the SWE-agent is primarily aimed at addressing GitHub issues, with modifications, it can also be utilized for more general programming tasks.\n",
    "\n",
    "Currently, how to enable agent with general programming ablities remains a challenging open question, with the efficacy of agent programming potentially influenced by factors such as prompt construction, model capabilities, and the complexity of the task at hand. Here we just provide an interesting toy example. \n",
    "\n",
    "We encourage users to experiment by altering the prompts within this example or by assigning different tasks to the agent, among other methods of exploration. Please feel free to experiment and explore on your own. The AgentScope team will continue to provide updates, enhancing the capabilities of the Programming Agents in the future!"
   ]
  }
 ],
 "metadata": {
  "kernelspec": {
   "display_name": "datajuicer",
   "language": "python",
   "name": "python3"
  },
  "language_info": {
   "codemirror_mode": {
    "name": "ipython",
    "version": 3
   },
   "file_extension": ".py",
   "mimetype": "text/x-python",
   "name": "python",
   "nbconvert_exporter": "python",
   "pygments_lexer": "ipython3",
   "version": "3.9.18"
  }
 },
 "nbformat": 4,
 "nbformat_minor": 2
}
