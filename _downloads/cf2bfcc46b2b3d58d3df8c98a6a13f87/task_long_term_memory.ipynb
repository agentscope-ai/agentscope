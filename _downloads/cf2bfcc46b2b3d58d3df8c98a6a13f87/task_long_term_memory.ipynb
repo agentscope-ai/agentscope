{
  "cells": [
    {
      "cell_type": "markdown",
      "metadata": {},
      "source": [
        "\n\n# Long-Term Memory\n\nIn AgentScope, we provide a basic class for long-term memory (``LongTermMemoryBase``) and an implementation based on the [mem0](https://github.com/mem0ai/mem0) library (``Mem0LongTermMemory``).\nTogether with the design of ``ReActAgent`` class in `agent` section, we provide two long-term memory modes:\n\n- ``agent_control``: the agent autonomously manages long-term memory by tool calls, and\n- ``static_control``: the developer explicitly controls long-term memory operations.\n\nDevelopers can also use the ``both`` mode, which activates both memory management modes.\n\n.. hint:: These memory modes are suitable for different usage scenarios. Developers can choose the appropriate mode based on their needs.\n\n## Using mem0 Long-Term Memory\n\n<div class=\"alert alert-info\"><h4>Note</h4><p>We provide an example of using mem0 long-term memory in the GitHub repository under the ``examples/long_term_memory/mem0`` directory.</p></div>\n"
      ]
    },
    {
      "cell_type": "code",
      "execution_count": null,
      "metadata": {
        "collapsed": false
      },
      "outputs": [],
      "source": [
        "import os\nimport asyncio\n\nfrom agentscope.message import Msg\nfrom agentscope.memory import InMemoryMemory\nfrom agentscope.agent import ReActAgent\nfrom agentscope.formatter import DashScopeChatFormatter\nfrom agentscope.model import DashScopeChatModel\nfrom agentscope.tool import Toolkit\n\n\n# Create mem0 long-term memory instance\nfrom agentscope.memory import Mem0LongTermMemory\nfrom agentscope.embedding import DashScopeTextEmbedding\n\n\nlong_term_memory = Mem0LongTermMemory(\n    agent_name=\"Friday\",\n    user_name=\"user_123\",\n    model=DashScopeChatModel(\n        model_name=\"qwen-max-latest\",\n        api_key=os.environ.get(\"DASHSCOPE_API_KEY\"),\n        stream=False,\n    ),\n    embedding_model=DashScopeTextEmbedding(\n        model_name=\"text-embedding-v2\",\n        api_key=os.environ.get(\"DASHSCOPE_API_KEY\"),\n    ),\n    on_disk=False,\n)"
      ]
    },
    {
      "cell_type": "markdown",
      "metadata": {},
      "source": [
        "The ``Mem0LongTermMemory`` class provides two main methods for long-term memory operations:\n``record`` and ``retrieve``.\nThey take a list of messages as input and record/retrieve information from long-term memory.\n\nAs an example, we first store a user preference and then retrieve related information from long-term memory.\n\n\n"
      ]
    },
    {
      "cell_type": "code",
      "execution_count": null,
      "metadata": {
        "collapsed": false
      },
      "outputs": [],
      "source": [
        "# Basic usage example\nasync def basic_usage():\n    \"\"\"Basic usage example\"\"\"\n    # Record memory\n    await long_term_memory.record(\n        [Msg(\"user\", \"I like staying in homestays\", \"user\")],\n    )\n\n    # Retrieve memory\n    results = await long_term_memory.retrieve(\n        [Msg(\"user\", \"My accommodation preferences\", \"user\")],\n    )\n    print(f\"Retrieval results: {results}\")\n\n\nasyncio.run(basic_usage())"
      ]
    },
    {
      "cell_type": "markdown",
      "metadata": {},
      "source": [
        "### Integration with ReAct Agent\nIn AgentScope, the ``ReActAgent`` class receives a ``long_term_memory``\nparameter in its constructor, as well as a ``long_term_memory_mode`` parameter\nthat specifies the long-term memory mode.\n\nIf ``long_term_memory_mode`` is set to ``agent_control`` or ``both``, two\ntool functions ``record_to_memory`` and ``retrieve_from_memory`` will be\nregistered in the agent's toolkit, allowing the agent to autonomously\nmanage long-term memory through tool calls.\n\n<div class=\"alert alert-info\"><h4>Note</h4><p>To achieve the best results, the ``\"agent_control\"`` mode may require</p></div>\n additional instructions in the system prompt.\n\n\n"
      ]
    },
    {
      "cell_type": "code",
      "execution_count": null,
      "metadata": {
        "collapsed": false
      },
      "outputs": [],
      "source": [
        "# Create ReAct agent with long-term memory\nagent = ReActAgent(\n    name=\"Friday\",\n    sys_prompt=\"You are an assistant with long-term memory capabilities.\",\n    model=DashScopeChatModel(\n        api_key=os.environ.get(\"DASHSCOPE_API_KEY\"),\n        model_name=\"qwen-max-latest\",\n    ),\n    formatter=DashScopeChatFormatter(),\n    toolkit=Toolkit(),\n    memory=InMemoryMemory(),\n    long_term_memory=long_term_memory,\n    long_term_memory_mode=\"static_control\",  # Use static_control mode\n)\n\n\nasync def record_preferences():\n    \"\"\"ReAct agent integration example\"\"\"\n    # Conversation example\n    msg = Msg(\n        \"user\",\n        \"When I travel to Hangzhou, I like staying in homestays\",\n        \"user\",\n    )\n    await agent(msg)\n\n\nasyncio.run(record_preferences())"
      ]
    },
    {
      "cell_type": "markdown",
      "metadata": {},
      "source": [
        "Then we clear the short-term memory and ask the agent about the user's preferences.\n\n\n"
      ]
    },
    {
      "cell_type": "code",
      "execution_count": null,
      "metadata": {
        "collapsed": false
      },
      "outputs": [],
      "source": [
        "async def retrieve_preferences():\n    \"\"\"Retrieve user preferences from long-term memory\"\"\"\n    # Clear short-term memory\n    await agent.memory.clear()\n    # The agent will remember previous conversations\n    msg2 = Msg(\"user\", \"What are my preferences? Answer briefly.\", \"user\")\n    await agent(msg2)\n\n\nasyncio.run(retrieve_preferences())"
      ]
    },
    {
      "cell_type": "markdown",
      "metadata": {},
      "source": [
        "## Customizing Long-Term Memory\nAgentScope provides the ``LongTermMemoryBase`` base class, which defines the basic\n\nDevelopers can inherit from ``LongTermMemoryBase`` to implement custom long-term\nmemory systems according to their needs\uff1a\n\n.. list-table:: Long-term memory classes in AgentScope\n    :header-rows: 1\n\n    * - Class\n      - Abstract Methods\n      - Description\n    * - ``LongTermMemoryBase``\n      - | ``record``\n        | ``retrieve``\n        | ``record_to_memory``\n        | ``retrieve_from_memory``\n      - - For ``\"static_control\"`` mode, you must implement the ``record`` and ``retrieve`` methods.\n        - For ``\"agent_control\"`` mode, the ``record_to_memory`` and ``retrieve_from_memory`` methods must be implemented.\n    * - ``Mem0LongTermMemory``\n      - \\-\n      - Long-term memory implementation based on the mem0 library, supporting vector storage and retrieval.\n\n\n\n\n## Further Reading\n- `memory` - Basic memory system\n- `agent` - ReAct agent\n- `tool` - Tool system\n\n"
      ]
    }
  ],
  "metadata": {
    "kernelspec": {
      "display_name": "Python 3",
      "language": "python",
      "name": "python3"
    },
    "language_info": {
      "codemirror_mode": {
        "name": "ipython",
        "version": 3
      },
      "file_extension": ".py",
      "mimetype": "text/x-python",
      "name": "python",
      "nbconvert_exporter": "python",
      "pygments_lexer": "ipython3",
      "version": "3.10.18"
    }
  },
  "nbformat": 4,
  "nbformat_minor": 0
}